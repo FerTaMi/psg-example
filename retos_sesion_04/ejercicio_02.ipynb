{
 "cells": [
  {
   "cell_type": "code",
   "execution_count": 6,
   "id": "ee56b772",
   "metadata": {},
   "outputs": [],
   "source": [
    "## Ejercicio 2: Creación de imagen con símbolos\n"
   ]
  },
  {
   "cell_type": "markdown",
   "id": "c300785e",
   "metadata": {},
   "source": [
    "## Ejercicio 2: Creación de imagen con símbolos"
   ]
  },
  {
   "cell_type": "code",
   "execution_count": 7,
   "id": "7f4fb461",
   "metadata": {},
   "outputs": [
    {
     "name": "stdout",
     "output_type": "stream",
     "text": [
      "  /\\_/\\  \n",
      " ( 'o' ) \n",
      "  > ^ <  \n",
      "  /  \\  \n",
      " (____)\n"
     ]
    },
    {
     "name": "stderr",
     "output_type": "stream",
     "text": [
      "<>:1: SyntaxWarning: invalid escape sequence '\\_'\n",
      "<>:4: SyntaxWarning: invalid escape sequence '\\ '\n",
      "<>:1: SyntaxWarning: invalid escape sequence '\\_'\n",
      "<>:4: SyntaxWarning: invalid escape sequence '\\ '\n",
      "C:\\Users\\TANCARA\\AppData\\Local\\Temp\\ipykernel_28600\\1608258760.py:1: SyntaxWarning: invalid escape sequence '\\_'\n",
      "  print(\"  /\\_/\\  \")\n",
      "C:\\Users\\TANCARA\\AppData\\Local\\Temp\\ipykernel_28600\\1608258760.py:4: SyntaxWarning: invalid escape sequence '\\ '\n",
      "  print(\"  /  \\  \")\n"
     ]
    }
   ],
   "source": [
    "print(\"  /\\_/\\  \")\n",
    "print(\" ( 'o' ) \")\n",
    "print(\"  > ^ <  \")\n",
    "print(\"  /  \\  \")\n",
    "print(\" (____)\")"
   ]
  },
  {
   "cell_type": "markdown",
   "id": "63bfd90f",
   "metadata": {},
   "source": []
  }
 ],
 "metadata": {
  "kernelspec": {
   "display_name": "Python 3",
   "language": "python",
   "name": "python3"
  },
  "language_info": {
   "codemirror_mode": {
    "name": "ipython",
    "version": 3
   },
   "file_extension": ".py",
   "mimetype": "text/x-python",
   "name": "python",
   "nbconvert_exporter": "python",
   "pygments_lexer": "ipython3",
   "version": "3.13.3"
  }
 },
 "nbformat": 4,
 "nbformat_minor": 5
}

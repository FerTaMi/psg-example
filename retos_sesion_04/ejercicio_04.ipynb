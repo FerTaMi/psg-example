{
 "cells": [
  {
   "cell_type": "markdown",
   "id": "1ea65d5b",
   "metadata": {},
   "source": [
    "## 🎮 TU Aventura"
   ]
  },
  {
   "cell_type": "markdown",
   "id": "b44732b4",
   "metadata": {},
   "source": [
    "# Juego de estrategia donde un jugador debe encontrar la salida de un laberinto evitando obstáculos"
   ]
  },
  {
   "cell_type": "markdown",
   "id": "817fcfd3",
   "metadata": {},
   "source": [
    "### 📜 Reglas:"
   ]
  },
  {
   "cell_type": "markdown",
   "id": "a29a60bc",
   "metadata": {},
   "source": [
    "# 1. El jugador (`P`) comienza en la esquina superior izquierda.\n",
    "# 2. Las paredes (`L`) no pueden atravesarse.\n",
    "# 3. Los tesoros (`T`) suman 10 puntos.\n",
    "# 4. La salida (`S`) gana el juego."
   ]
  },
  {
   "cell_type": "code",
   "execution_count": 1,
   "id": "14b32809",
   "metadata": {},
   "outputs": [
    {
     "name": "stdout",
     "output_type": "stream",
     "text": [
      "Laberinto:\n",
      "\n",
      "  P L L\n",
      "  . L T\n",
      "  L . S\n",
      "\n"
     ]
    }
   ],
   "source": [
    "print(\"Laberinto:\")\n",
    "print(\"\"\"\n",
    "  P L L\n",
    "  . L T\n",
    "  L . S\n",
    "\"\"\")"
   ]
  },
  {
   "cell_type": "markdown",
   "id": "93f0530d",
   "metadata": {},
   "source": [
    "print(\"P = Jugador | L = Pared | . = Camino | T = Tesoro | S = Salida\")"
   ]
  },
  {
   "cell_type": "code",
   "execution_count": 4,
   "id": "731234f5",
   "metadata": {},
   "outputs": [
    {
     "name": "stdout",
     "output_type": "stream",
     "text": [
      "Tablero GG:\n",
      "\n",
      "  P L L L L\n",
      "  . . . L L\n",
      "  L L . T L\n",
      "  L L . L L\n",
      "  L . . S L\n",
      "\n"
     ]
    }
   ],
   "source": [
    "print(\"Tablero GG:\")\n",
    "print(\"\"\"\n",
    "  P L L L L\n",
    "  . . . L L\n",
    "  L L . T L\n",
    "  L L . L L\n",
    "  L . . S L\n",
    "\"\"\")"
   ]
  }
 ],
 "metadata": {
  "kernelspec": {
   "display_name": "Python 3",
   "language": "python",
   "name": "python3"
  },
  "language_info": {
   "codemirror_mode": {
    "name": "ipython",
    "version": 3
   },
   "file_extension": ".py",
   "mimetype": "text/x-python",
   "name": "python",
   "nbconvert_exporter": "python",
   "pygments_lexer": "ipython3",
   "version": "3.13.3"
  }
 },
 "nbformat": 4,
 "nbformat_minor": 5
}

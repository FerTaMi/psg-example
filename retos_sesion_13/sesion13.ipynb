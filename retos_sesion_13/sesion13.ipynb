{
 "cells": [
  {
   "cell_type": "code",
   "execution_count": null,
   "id": "376811f0",
   "metadata": {},
   "outputs": [],
   "source": [
    "print ((range(5)))"
   ]
  },
  {
   "cell_type": "code",
   "execution_count": null,
   "id": "972f8cb3",
   "metadata": {},
   "outputs": [],
   "source": [
    "print(list(range(5)))"
   ]
  },
  {
   "cell_type": "markdown",
   "id": "3cb94080",
   "metadata": {},
   "source": [
    "Como se declara un for con range"
   ]
  },
  {
   "cell_type": "code",
   "execution_count": null,
   "id": "e068902a",
   "metadata": {},
   "outputs": [],
   "source": [
    "for i in range(5):\n",
    "    print(i)\n",
    "print (\"Inicio\")\n",
    "for i in range(5): # rango (0,5,1)\n",
    "    print(i)\n",
    "print (\"Fin\")"
   ]
  },
  {
   "cell_type": "code",
   "execution_count": null,
   "id": "3e79a8c3",
   "metadata": {},
   "outputs": [],
   "source": [
    "#Ejemplo 1, sumar los números del 1 al 10 de 2 en 2\n",
    "print (\"Ejemplo 1\")\n",
    "suma = 0\n",
    "for i in range(1, 11, 2): # 1, 3, 5, 7, 9\n",
    "    suma = suma + i #suma += i\n",
    "print(suma)"
   ]
  },
  {
   "cell_type": "code",
   "execution_count": null,
   "id": "6d2cb016",
   "metadata": {},
   "outputs": [],
   "source": [
    "#Ejemplo 2, crear un árbol de navidad de 6 niveles\n",
    "print (\"Ejemplo 2\")\n",
    "for i in range(0, 6):\n",
    "    print(\" \"*(5-i) + \"*\"*i*2+\"*\")"
   ]
  },
  {
   "cell_type": "markdown",
   "id": "572ee534",
   "metadata": {},
   "source": [
    "Ejemplo 3, crear una serie de números cuadrados del 1 al 10"
   ]
  },
  {
   "cell_type": "code",
   "execution_count": null,
   "id": "57cce85c",
   "metadata": {},
   "outputs": [],
   "source": [
    "print (\"Ejemplo 3\")\n",
    "for i in range(1, 11):\n",
    "    print(i**2, end=\" \")"
   ]
  },
  {
   "cell_type": "markdown",
   "id": "0f8479bd",
   "metadata": {},
   "source": [
    "Ejemplo 4, crear una lista de números pares del 1 al 10"
   ]
  },
  {
   "cell_type": "code",
   "execution_count": null,
   "id": "e83c15ec",
   "metadata": {},
   "outputs": [],
   "source": [
    "print (\"Ejemplo 4\")\n",
    "pares = []\n",
    "for i in range(0, 11, 2):\n",
    "    pares.append(i)\n",
    "print(pares)"
   ]
  },
  {
   "cell_type": "markdown",
   "id": "0c82ae7b",
   "metadata": {},
   "source": [
    "Ejercicio 1, imprimir los 10 primeros de la serie números cúbicos"
   ]
  },
  {
   "cell_type": "code",
   "execution_count": null,
   "id": "07c9bd45",
   "metadata": {},
   "outputs": [],
   "source": [
    "print(\"Los 10 primeros números cúbicos:\")\n",
    "for i in range(1, 11):  # del 1 al 10\n",
    "    print(i**3)"
   ]
  },
  {
   "cell_type": "markdown",
   "id": "ea2676f6",
   "metadata": {},
   "source": [
    "Como se declara un for con secuencias"
   ]
  },
  {
   "cell_type": "code",
   "execution_count": null,
   "id": "e0df458e",
   "metadata": {},
   "outputs": [],
   "source": [
    "for fruta in ['🍎','🍌','🍇','🍉']:\n",
    "    print(fruta)"
   ]
  },
  {
   "cell_type": "code",
   "execution_count": null,
   "id": "4410801c",
   "metadata": {},
   "outputs": [],
   "source": [
    "print (\"Ejemplo 5\")\n",
    "fiesta = ['🎄','🎆','🎁','🎊','✨','🧨']\n",
    "for objeto in fiesta:\n",
    "    print(objeto)"
   ]
  },
  {
   "cell_type": "markdown",
   "id": "72bc7920",
   "metadata": {},
   "source": [
    "Ejemplo 6, imprimir los elementos de una tupla de frutas separados por coma"
   ]
  },
  {
   "cell_type": "code",
   "execution_count": null,
   "id": "e2e26717",
   "metadata": {},
   "outputs": [],
   "source": [
    "print (\"Ejemplo 6\")\n",
    "frutas =  ('🍅','🍇','🍈','🍉','🍊')\n",
    "for fruta in frutas:\n",
    "    print(fruta, end=\", \")"
   ]
  },
  {
   "cell_type": "code",
   "execution_count": null,
   "id": "bf788cdd",
   "metadata": {},
   "outputs": [],
   "source": [
    "#Ejemplo 7, imprimir los elementos de un diccionario\n",
    "print (\"Ejemplo 7\")\n",
    "frutas = {'🍅':'Tomate','🍇':'Uva','🍈':'Melón','🍉':'Sandía','🍊':'Naranja'}\n",
    "for clave in frutas:\n",
    "    print(clave, frutas[clave])"
   ]
  },
  {
   "cell_type": "code",
   "execution_count": null,
   "id": "2bc1e305",
   "metadata": {},
   "outputs": [],
   "source": [
    "#Ejemplo 8, imprimir los elementos del ciclo de vida de un pollo con flechas\n",
    "print (\"Ejemplo 8\")\n",
    "ciclo_vida = '🥚🐣🐥🐤🐔🍗'\n",
    "for etapa in ciclo_vida:\n",
    "    print(etapa, end=\"->\")"
   ]
  },
  {
   "cell_type": "markdown",
   "id": "75132194",
   "metadata": {},
   "source": [
    "Ejemplo 9, Listar los elementos de la siguiente serie ['🐶','🐱','🐰','🐭']"
   ]
  },
  {
   "cell_type": "code",
   "execution_count": null,
   "id": "9b3ec310",
   "metadata": {},
   "outputs": [],
   "source": [
    "print (\"Ejemplo 9\")\n",
    "animales = ['🐶','🐱','🐰','🐭']\n",
    "for animal in animales:\n",
    "    print(animal)"
   ]
  },
  {
   "cell_type": "markdown",
   "id": "535a38a2",
   "metadata": {},
   "source": [
    "Ejemplo 10, Listar los elementos de la siguiente serie ['🐶','🐱','🐰','🐭']"
   ]
  },
  {
   "cell_type": "code",
   "execution_count": null,
   "id": "6ff9fec7",
   "metadata": {},
   "outputs": [],
   "source": [
    "print (\"Ejemplo 10\")\n",
    "animales = ['🐶','🐱','🐰','🐭']\n",
    "for i in range(len(animales)):\n",
    "    print(animales[i])"
   ]
  },
  {
   "cell_type": "code",
   "execution_count": null,
   "id": "571923fe",
   "metadata": {},
   "outputs": [],
   "source": [
    "#Ejemplo 11, Listar los elementos de la siguiente serie ['🐶','🐱','🐰','🐭']\n",
    "print (\"Ejemplo 11\")\n",
    "animales = ['🐶','🐱','🐰','🐭']\n",
    "for i, animal in enumerate(animales):\n",
    "    print(i, animal, animales[i])"
   ]
  },
  {
   "cell_type": "code",
   "execution_count": null,
   "id": "62397130",
   "metadata": {},
   "outputs": [],
   "source": [
    "#Ejercicio 2, imprimir la cantidad de veces los elementos de la cadena '⚽🏀🏐🎱' de acuerdo a su posición más 1\n",
    "cadena = '⚽🏀🏐🎱'"
   ]
  },
  {
   "cell_type": "code",
   "execution_count": null,
   "id": "ad06b128",
   "metadata": {},
   "outputs": [],
   "source": [
    "for i in range(len(cadena)):\n",
    "    print(cadena[i] * (i + 1))"
   ]
  },
  {
   "cell_type": "markdown",
   "id": "4ff5a3c2",
   "metadata": {},
   "source": [
    "La estructura de control while es la siguiente\n",
    "Ejemplo 12, imprimir los números mientras sean menores o igual a 5 empezando desde 0"
   ]
  },
  {
   "cell_type": "code",
   "execution_count": null,
   "id": "638e1684",
   "metadata": {},
   "outputs": [],
   "source": [
    "print (\"Ejemplo 12\")\n",
    "i = 0\n",
    "while i <= 5:\n",
    "    print(i)\n",
    "    i += 1"
   ]
  },
  {
   "cell_type": "markdown",
   "id": "e9e09086",
   "metadata": {},
   "source": [
    "Ejemplo 13, sumar los números mientras no se ingrese por teclado el número 0"
   ]
  },
  {
   "cell_type": "markdown",
   "id": "f03a1e19",
   "metadata": {},
   "source": [
    "print (\"Ejemplo 13\")\n",
    "suma = 0\n",
    "numero = int(input(\"Ingrese un número: \"))\n",
    "while numero != 0:\n",
    "   suma += numero\n",
    "   numero = int(input(\"Ingrese un número: \"))\n",
    "print(suma)"
   ]
  },
  {
   "cell_type": "markdown",
   "id": "764f9d7a",
   "metadata": {},
   "source": [
    "Ejercicio 3, Ingresa un número por teclado y genera un contador hasta 0, si el número es negativo no hace nada"
   ]
  },
  {
   "cell_type": "markdown",
   "id": "f550bb6a",
   "metadata": {
    "lines_to_next_cell": 2
   },
   "source": [
    "print (\"Ejercicio 3\")\n",
    "numero = int(input(\"Ingrese un número: \"))\n",
    "while numero >= 0:\n",
    "   print(numero)\n",
    "   numero -= 1"
   ]
  },
  {
   "cell_type": "markdown",
   "id": "634d7305",
   "metadata": {},
   "source": [
    "Ejemplo 14, De la siguiente lista de frutas imprimir los elementos hasta que se encuentre un gusano 🐛 con for"
   ]
  },
  {
   "cell_type": "code",
   "execution_count": null,
   "id": "db7c1301",
   "metadata": {},
   "outputs": [],
   "source": [
    "frutas = ['🍎','🍌','🍇','🍉','🍊','🐛','🍋','🍍']\n",
    "print (\"Ejemplo 14\")\n",
    "for fruta in frutas:\n",
    "    if fruta == '🐛':\n",
    "        break\n",
    "    print(fruta)\n",
    "print (\"Fin\")"
   ]
  },
  {
   "cell_type": "markdown",
   "id": "2242cc75",
   "metadata": {},
   "source": [
    "Con while"
   ]
  },
  {
   "cell_type": "code",
   "execution_count": null,
   "id": "5b571cfc",
   "metadata": {},
   "outputs": [],
   "source": [
    "frutas = ['🍎','🍌','🍇','🍉','🍊','🐛','🍋','🍍']\n",
    "print (\"Ejemplo 14\")\n",
    "i = \"\"\n",
    "while i != '🐛':\n",
    "    i = frutas.pop(0)\n",
    "    print(i)\n",
    "print (\"Fin\")"
   ]
  },
  {
   "cell_type": "markdown",
   "id": "e2195692",
   "metadata": {},
   "source": [
    "Ejemplo 15, Crear un ciclo infinito que imprima un contador incremental"
   ]
  },
  {
   "cell_type": "markdown",
   "id": "05f44aeb",
   "metadata": {
    "lines_to_next_cell": 2
   },
   "source": [
    "print (\"Ejemplo 15\")\n",
    "contador = 0\n",
    "while True:\n",
    "   print(contador)\n",
    "   contador += 1"
   ]
  },
  {
   "cell_type": "markdown",
   "id": "f8ab231f",
   "metadata": {},
   "source": [
    "Ejemplo 16, Crear un ciclo infinito que pida una cadena de texto la ponga en mayúsculas y la imprima hasta que se ingrese la palabra salir"
   ]
  },
  {
   "cell_type": "markdown",
   "id": "b172290f",
   "metadata": {},
   "source": [
    "print (\"Ejemplo 16\")\n",
    "while True:\n",
    "   texto = input(\"Ingrese un texto: \")\n",
    "   if texto == 'salir':\n",
    "       break\n",
    "   print(texto.upper())\n",
    "print (\"Fin\")"
   ]
  },
  {
   "cell_type": "markdown",
   "id": "d536277f",
   "metadata": {},
   "source": [
    "Ejercicio 4, Crear un ciclo infinito que reciba un número por teclado y verifique si es par o impar hasta que se ingrese el número 0"
   ]
  },
  {
   "cell_type": "markdown",
   "id": "172ce603",
   "metadata": {},
   "source": [
    "print (\"Ejercicio 4\")\n",
    "while True:\n",
    "   numero = int(input(\"Ingrese un número: \"))\n",
    "   if numero == 0:\n",
    "       break\n",
    "   print (\"Par\" if numero % 2 == 0 else \"Impar\")"
   ]
  },
  {
   "cell_type": "markdown",
   "id": "6d424d66",
   "metadata": {},
   "source": [
    "Estructura de una lista por comprensión\n",
    "Ejemplo 17, Crear una lista de los números pares del 2 al 10"
   ]
  },
  {
   "cell_type": "code",
   "execution_count": null,
   "id": "d61689b2",
   "metadata": {},
   "outputs": [],
   "source": [
    "print (\"Ejemplo 17\")\n",
    "pares = [i for i in range(2, 11, 2)]\n",
    "print(pares)"
   ]
  },
  {
   "cell_type": "markdown",
   "id": "67110b72",
   "metadata": {},
   "source": [
    "Ejemplo 18, Crear una lista de los números pares del 2 al 10 con condicional"
   ]
  },
  {
   "cell_type": "code",
   "execution_count": null,
   "id": "b15b6a24",
   "metadata": {},
   "outputs": [],
   "source": [
    "print (\"Ejemplo 18\")\n",
    "pares = [i for i in range(2, 11) if i % 2 == 0]\n",
    "print(pares)"
   ]
  },
  {
   "cell_type": "markdown",
   "id": "20b44b18",
   "metadata": {},
   "source": [
    "Ejemplo 19, Crear un diccionario números 2 al 10 donde si es par vale \"Par\" y si es impar valga \"Impar\""
   ]
  },
  {
   "cell_type": "code",
   "execution_count": null,
   "id": "287febb1",
   "metadata": {},
   "outputs": [],
   "source": [
    "print (\"Ejemplo 19\")\n",
    "pares = {i: \"Par\" if i % 2 == 0 else \"Impar\" for i in range(2, 11)}\n",
    "print(pares)"
   ]
  },
  {
   "cell_type": "markdown",
   "id": "1a54813b",
   "metadata": {},
   "source": [
    "Ejercicio 5, Crear una tupla de los números impares del 1 al 10 usando una tupla por comprensión"
   ]
  },
  {
   "cell_type": "code",
   "execution_count": null,
   "id": "d4917acf",
   "metadata": {},
   "outputs": [],
   "source": [
    "print (\"Ejercicio 5\")\n",
    "impares = tuple(i for i in range(1, 11) if i % 2 != 0)\n",
    "print(impares)"
   ]
  },
  {
   "cell_type": "markdown",
   "id": "5b91c34d",
   "metadata": {},
   "source": [
    "Ciclos anidados\n",
    "Ejemplo 20, Imprimir las tablas de multiplicar del 1 y 2"
   ]
  },
  {
   "cell_type": "code",
   "execution_count": null,
   "id": "71a11981",
   "metadata": {},
   "outputs": [],
   "source": [
    "print (\"Ejemplo 20\")\n",
    "for i in range(1, 3):\n",
    "    print(f\"Tabla del {i}\")\n",
    "    for j in range(1, 11):\n",
    "        print(f\"{i} x {j} = {i*j}\")"
   ]
  },
  {
   "cell_type": "markdown",
   "id": "b2935b88",
   "metadata": {},
   "source": [
    "Ejemplo 21, Introducir un número por teclado y crear una tabla de multiplicar de ese número del 1 al 10, si se ingresa 0 termina el programa"
   ]
  },
  {
   "cell_type": "code",
   "execution_count": null,
   "id": "09552a70",
   "metadata": {},
   "outputs": [],
   "source": [
    "print (\"Ejemplo 21\")\n",
    "#while True:\n",
    "#    numero = int(input(\"Ingrese un número: \"))\n",
    "#    if numero == 0:\n",
    "#        break\n",
    "#    print(f\"Tabla del {numero}\")\n",
    "#    for i in range(1, 11):\n",
    "#        print(f\"{numero} x {i} = {numero*i}\")\n",
    "#print (\"Fin\")"
   ]
  },
  {
   "cell_type": "markdown",
   "id": "5abc8e8b",
   "metadata": {},
   "source": [
    "MATRIZ"
   ]
  },
  {
   "cell_type": "code",
   "execution_count": null,
   "id": "40a7086e",
   "metadata": {},
   "outputs": [],
   "source": [
    "matriz = [[1, 2, 3], [4, 5, 6], [7, 8, 9]]\n",
    "for fila in matriz:\n",
    "    for columna in fila:\n",
    "        print(columna, end=\" \")\n",
    "    print()"
   ]
  },
  {
   "cell_type": "markdown",
   "id": "1dcb507c",
   "metadata": {},
   "source": [
    "Ejemplo 22, Introducir un número por teclado y crear una matriz nxn con la letra X"
   ]
  },
  {
   "cell_type": "markdown",
   "id": "6592c11f",
   "metadata": {},
   "source": [
    "print (\"Ejemplo 22\")\n",
    "n = int(input(\"Ingrese un número: \"))\n",
    "matriz = [['X' for i in range(n)] for j in range(n)]\n",
    "for fila in matriz:\n",
    "   for columna in fila:\n",
    "       print(columna, end=\" \")\n",
    "   print()\n",
    "print (matriz)"
   ]
  },
  {
   "cell_type": "markdown",
   "id": "8a04db56",
   "metadata": {},
   "source": [
    "Ejercicio 6, Crear una matriz ingresando un número por teclado para el tamaño de la matriz y en cada posición colocar una tupla con (i, j)"
   ]
  },
  {
   "cell_type": "code",
   "execution_count": null,
   "id": "2d5a3468",
   "metadata": {},
   "outputs": [],
   "source": [
    "print (\"Ejercicio 6\")\n",
    "n = int(input(\"Ingrese un número: \"))\n",
    "matriz = [[(j, i) for i in range(n)] for j in range(n)]\n",
    "for fila in matriz:\n",
    "    for columna in fila:\n",
    "        print(columna, end=\" \")\n",
    "    print()\n",
    "print (matriz)"
   ]
  },
  {
   "cell_type": "code",
   "execution_count": null,
   "id": "9cd92f57",
   "metadata": {},
   "outputs": [],
   "source": []
  }
 ],
 "metadata": {
  "jupytext": {
   "cell_metadata_filter": "-all",
   "main_language": "python",
   "notebook_metadata_filter": "-all"
  },
  "language_info": {
   "name": "python"
  }
 },
 "nbformat": 4,
 "nbformat_minor": 5
}

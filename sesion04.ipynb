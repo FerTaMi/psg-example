{
 "cells": [
  {
   "cell_type": "markdown",
   "id": "b55179fd",
   "metadata": {},
   "source": [
    "# Hola\n"
   ]
  },
  {
   "cell_type": "code",
   "execution_count": 6,
   "id": "bb6257b9",
   "metadata": {},
   "outputs": [
    {
     "name": "stdout",
     "output_type": "stream",
     "text": [
      "Hola, Mundo desde Notebook!\n",
      "Hola, Mundo desde Notebook!\n"
     ]
    }
   ],
   "source": [
    "print (\"Hola, Mundo desde Notebook!\")\n",
    "# Code 01\n",
    "print (\"Hola, Mundo desde Notebook!\")"
   ]
  },
  {
   "cell_type": "code",
   "execution_count": 7,
   "id": "3b168307",
   "metadata": {},
   "outputs": [
    {
     "name": "stdout",
     "output_type": "stream",
     "text": [
      "     *\n",
      "    ***\n",
      "   *****\n",
      "  *******\n",
      "     11\n"
     ]
    }
   ],
   "source": [
    "print(\"     *\")\n",
    "print(\"    ***\")\n",
    "print(\"   *****\")\n",
    "print(\"  *******\")\n",
    "print('     11')\n",
    "\n",
    "\n"
   ]
  },
  {
   "cell_type": "markdown",
   "id": "4d2bc26b",
   "metadata": {},
   "source": [
    "# Sesión 04\n",
    "- Mi primer notebook\n",
    "- Imprimir árbol\n",
    "- Crear Markdown\n",
    "- Subir a mi repositorio de GitHub\n",
    "## 🎄"
   ]
  }
 ],
 "metadata": {
  "kernelspec": {
   "display_name": "Python 3",
   "language": "python",
   "name": "python3"
  },
  "language_info": {
   "codemirror_mode": {
    "name": "ipython",
    "version": 3
   },
   "file_extension": ".py",
   "mimetype": "text/x-python",
   "name": "python",
   "nbconvert_exporter": "python",
   "pygments_lexer": "ipython3",
   "version": "3.13.3"
  }
 },
 "nbformat": 4,
 "nbformat_minor": 5
}

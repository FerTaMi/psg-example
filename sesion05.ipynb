{
 "cells": [
  {
   "cell_type": "code",
   "execution_count": null,
   "id": "cc084b0e",
   "metadata": {},
   "outputs": [],
   "source": [
    "print(type(1))\n",
    "print (10)\n",
    "print ( type (10) )"
   ]
  },
  {
   "cell_type": "code",
   "execution_count": null,
   "id": "b7afd2fc",
   "metadata": {},
   "outputs": [],
   "source": [
    "variable = 100\n",
    "print (variable)\n",
    "print ( type (variable) )"
   ]
  },
  {
   "cell_type": "code",
   "execution_count": null,
   "id": "b5f74a2e",
   "metadata": {},
   "outputs": [],
   "source": [
    "variable_2 = int (20.0)\n",
    "print (variable_2)\n",
    "print ( type (variable_2) )"
   ]
  },
  {
   "cell_type": "code",
   "execution_count": null,
   "id": "291369c4",
   "metadata": {},
   "outputs": [],
   "source": [
    "# Valor 10 en base decimal\n",
    "print (\"Base decimal\")\n",
    "print (10)\n",
    "# Valor 10 en binario\n",
    "print (\"Base binaria\")\n",
    "print (0b1010)\n",
    "# Valor 10 en octal\n",
    "print (\"Base octal\")\n",
    "print (0o12)\n",
    "# Valor 10 en hexadecimal\n",
    "print (\"Base hexadecimal\")\n",
    "print (0xa)"
   ]
  },
  {
   "cell_type": "code",
   "execution_count": null,
   "id": "8f48b421",
   "metadata": {},
   "outputs": [],
   "source": [
    "# Entero con 60 dígitos\n",
    "variable_3 = 123456789012345678901234567890123456789012345678901234567890\n",
    "print (variable_3)\n",
    "print (type (variable_3))"
   ]
  },
  {
   "cell_type": "code",
   "execution_count": null,
   "id": "f1e73268",
   "metadata": {},
   "outputs": [],
   "source": [
    "# Valor 0.5 Flotante\n",
    "print (0.5)\n",
    "print ( type (0.5) )"
   ]
  },
  {
   "cell_type": "code",
   "execution_count": null,
   "id": "03bb3650",
   "metadata": {},
   "outputs": [],
   "source": [
    "# Variable 0.100546 Flotante\n",
    "variable_4 = 0.100546\n",
    "print (variable_4)\n",
    "print ( type (variable_4) )"
   ]
  },
  {
   "cell_type": "code",
   "execution_count": null,
   "id": "95595dbe",
   "metadata": {},
   "outputs": [],
   "source": [
    "# Variable 1 Flotante\n",
    "variable_7 = float (1)\n",
    "print(variable_7)\n",
    "print ( type (variable_7) )"
   ]
  },
  {
   "cell_type": "code",
   "execution_count": null,
   "id": "188dbc26",
   "metadata": {},
   "outputs": [],
   "source": [
    "# Valor 2.0e-3 Flotante\n",
    "variable_6 = 2.0e-3\n",
    "print(variable_6)\n",
    "print ( type (variable_6) )"
   ]
  },
  {
   "cell_type": "code",
   "execution_count": null,
   "id": "0475404b",
   "metadata": {},
   "outputs": [],
   "source": [
    "# Precisión de 17 decimales\n",
    "variable_5 = 0.99999999999999999\n",
    "print(variable_5)\n",
    "print ( type (variable_5) )\n",
    "\n",
    "\n",
    "\t# Operadores aritméticos\n",
    "a = 10\n",
    "b = 3\n",
    "# Suma\n",
    "print (\"Suma\")\n",
    "print (a + b)\n",
    "# Resta\n",
    "print (\"Resta\")\n",
    "print (a - b)\n",
    "# Multiplicación\n",
    "print (\"Multiplicación\")\n",
    "print (a * b)\n",
    "# División\n",
    "print (\"División\")\n",
    "print (a / b)\n",
    "# Potencia\n",
    "print (\"Potencia\")\n",
    "print (a ** b)\n",
    "# Módulo o residuo\n",
    "print (\"Módulo o residuo\")\n",
    "print (a % b)\n",
    "# División entera\n",
    "print (\"División entera\")\n",
    "print (a // b)"
   ]
  },
  {
   "cell_type": "code",
   "execution_count": null,
   "id": "dc972dcd",
   "metadata": {},
   "outputs": [],
   "source": [
    "# Operaciones más complejas\n",
    "minutos = 300\n",
    "tiempo_extra_segundos = 3600\n",
    "horas = (minutos + tiempo_extra_segundos / 60) / 60\n",
    "print (horas)\n",
    "Horas:  6.0"
   ]
  },
  {
   "cell_type": "code",
   "execution_count": null,
   "id": "a2ddc29c",
   "metadata": {},
   "outputs": [],
   "source": [
    "print (\"Operadores de comparación\")\n",
    "comparar = 10\n",
    "print (comparar < 10)\n",
    "print (comparar > 10)\n",
    "print (comparar == 10)\n",
    "print (comparar <= 10)\n",
    "print (comparar >= 10)\n",
    "print (comparar != 10)"
   ]
  },
  {
   "cell_type": "code",
   "execution_count": null,
   "id": "fe7e92f8",
   "metadata": {},
   "outputs": [],
   "source": [
    "print (\"Operadores de comparación con int - float\")\n",
    "entero = 13\n",
    "flotante = 13.1\n",
    "print (entero < flotante)\n",
    "print (entero > flotante)\n",
    "print (entero == flotante)\n",
    "print (entero <= flotante)\n",
    "print (entero >= flotante)\n",
    "print (entero != flotante)"
   ]
  },
  {
   "cell_type": "code",
   "execution_count": null,
   "id": "ed6b065d",
   "metadata": {},
   "outputs": [],
   "source": []
  }
 ],
 "metadata": {
  "jupytext": {
   "cell_metadata_filter": "-all",
   "main_language": "python",
   "notebook_metadata_filter": "-all"
  }
 },
 "nbformat": 4,
 "nbformat_minor": 5
}

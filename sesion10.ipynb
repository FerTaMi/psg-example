{
 "cells": [
  {
   "cell_type": "code",
   "execution_count": null,
   "id": "b8504439",
   "metadata": {},
   "outputs": [],
   "source": [
    "conjunto = {'🍕','🍔','🍟','🌭'}\n",
    "print(conjunto) # {'🍔', '🌭', '🍕', '🍟'}\n",
    "conjunto.add('🥗')\n",
    "print(conjunto)  # {'🍔', '🍕', '🥗', '🍟', '🌭'}"
   ]
  },
  {
   "cell_type": "code",
   "execution_count": null,
   "id": "1e1e2ee2",
   "metadata": {},
   "outputs": [],
   "source": [
    "conjunto = {'🍕','🍔','🍟','🌭'}\n",
    "print(conjunto) # {'🍔', '🌭', '🍕', '🍟'}"
   ]
  },
  {
   "cell_type": "code",
   "execution_count": null,
   "id": "490f9865",
   "metadata": {},
   "outputs": [],
   "source": [
    "conjunto = {'🍕','🍔','🍟','🌭','🍕','🍟'}\n",
    "print(conjunto) # {'🍕', '🍟', '🌭', '🍔'}"
   ]
  },
  {
   "cell_type": "code",
   "execution_count": null,
   "id": "68c5202c",
   "metadata": {},
   "outputs": [],
   "source": [
    "#Conjunto de enteros\n",
    "print (\"Conjunto de enteros\")\n",
    "conjunto = {1, 2, 3, 4, 5}\n",
    "print(conjunto) \n",
    "print(type(conjunto))"
   ]
  },
  {
   "cell_type": "code",
   "execution_count": null,
   "id": "2d4f758d",
   "metadata": {
    "lines_to_next_cell": 2
   },
   "outputs": [],
   "source": [
    "print (\"Conjunto de cadenas\")\n",
    "conjunto = {'🍕','🍔','🍟','🌭'}\n",
    "print(conjunto)\n",
    "print(type(conjunto))"
   ]
  },
  {
   "cell_type": "code",
   "execution_count": null,
   "id": "123aae39",
   "metadata": {},
   "outputs": [],
   "source": [
    "print (\"Conjunto mixto\")\n",
    "conjunto = {1, True, 3.14, '☕'}\n",
    "print(conjunto)\n",
    "print(type(conjunto))"
   ]
  },
  {
   "cell_type": "code",
   "execution_count": null,
   "id": "e3c2af18",
   "metadata": {},
   "outputs": [],
   "source": [
    "print (\"Conjunto vacío\")\n",
    "conjunto = set()\n",
    "print(conjunto)\n",
    "print(type(conjunto))"
   ]
  },
  {
   "cell_type": "code",
   "execution_count": null,
   "id": "9e6f4c71",
   "metadata": {},
   "outputs": [],
   "source": [
    "print (\"Conjunto a partir de la cadena\")\n",
    "cadena = 'Hola Mundo'\n",
    "conjunto = set(cadena)\n",
    "print(conjunto)\n",
    "print(type(conjunto))"
   ]
  },
  {
   "cell_type": "code",
   "execution_count": null,
   "id": "e5f60732",
   "metadata": {},
   "outputs": [],
   "source": [
    "print (\"Conjunto a partir de una tupla\")\n",
    "tupla = (1, 2, 3, 4, 5, 5)\n",
    "conjunto = set(tupla)\n",
    "print(conjunto)\n",
    "print(type(conjunto))"
   ]
  },
  {
   "cell_type": "code",
   "execution_count": null,
   "id": "67d5d14e",
   "metadata": {},
   "outputs": [],
   "source": [
    "print (\"Conjunto a partir de una lista\")\n",
    "lista = [True, False, 0, 1]\n",
    "conjunto = set(lista)\n",
    "print(conjunto)\n",
    "print(type(conjunto))"
   ]
  },
  {
   "cell_type": "code",
   "execution_count": null,
   "id": "d3b7307b",
   "metadata": {},
   "outputs": [],
   "source": [
    "print (\"Conjunto por comprensión\")\n",
    "conjunto = {x for x in '🍕🍔🍟🍕🍔🍟🍔🍟'}\n",
    "print(conjunto)\n",
    "print(type(conjunto))"
   ]
  },
  {
   "cell_type": "markdown",
   "id": "48a25c49",
   "metadata": {},
   "source": [
    "Métodos de adición"
   ]
  },
  {
   "cell_type": "code",
   "execution_count": null,
   "id": "5857437d",
   "metadata": {},
   "outputs": [],
   "source": [
    "print (\"Método add()\")\n",
    "conjunto = {'🍕','🍔','🍟','🌭'}\n",
    "print (conjunto)\n",
    "conjunto.add('🥗')\n",
    "print(conjunto) "
   ]
  },
  {
   "cell_type": "markdown",
   "id": "61134838",
   "metadata": {},
   "source": [
    "update(valores)"
   ]
  },
  {
   "cell_type": "code",
   "execution_count": null,
   "id": "d8ee1dc7",
   "metadata": {},
   "outputs": [],
   "source": [
    "print (\"Método update()\")\n",
    "conjunto = {'🍕','🍔','🍟','🌭'}\n",
    "print (conjunto)\n",
    "conjunto.update(['🥤','🍦'])\n",
    "print(conjunto) \n",
    "conjunto.update('🍩🍪')\n",
    "print(conjunto) \n",
    "conjunto.update(('🍫','🍬'))\n",
    "print(conjunto)\n",
    "conjunto.update({'🍭','🍮'})\n",
    "print(conjunto)"
   ]
  },
  {
   "cell_type": "markdown",
   "id": "bae13ecb",
   "metadata": {},
   "source": [
    "Métodos de eliminación"
   ]
  },
  {
   "cell_type": "code",
   "execution_count": null,
   "id": "a0b9f44c",
   "metadata": {},
   "outputs": [],
   "source": [
    "print (\"Método remove()\")\n",
    "conjunto = {'🍕','🍔','🍟','🌭'} \n",
    "print (conjunto)\n",
    "conjunto.remove('🍔')\n",
    "print(conjunto)\n",
    "# conjunto.remove('🍔')\n",
    "# print(conjunto)\n",
    "# Key Error: '🍔'"
   ]
  },
  {
   "cell_type": "code",
   "execution_count": null,
   "id": "8750b26d",
   "metadata": {},
   "outputs": [],
   "source": [
    "print (\"Método discard()\")\n",
    "conjunto = {'🍕','🍔','🍟','🌭'}\n",
    "print (conjunto)\n",
    "conjunto.discard('🍔')\n",
    "print(conjunto)\n",
    "conjunto.discard('🍔')\n",
    "print(conjunto)"
   ]
  },
  {
   "cell_type": "markdown",
   "id": "4530e4ea",
   "metadata": {},
   "source": [
    "pop()"
   ]
  },
  {
   "cell_type": "code",
   "execution_count": null,
   "id": "51cba800",
   "metadata": {},
   "outputs": [],
   "source": [
    "print (\"Método pop()\")\n",
    "conjunto = {'🍕','🍔','🍟','🌭', '🥤','🍦'}\n",
    "print (conjunto)\n",
    "print(conjunto.pop())\n",
    "print(conjunto)\n",
    "print(conjunto.pop())\n",
    "print(conjunto)"
   ]
  },
  {
   "cell_type": "markdown",
   "id": "cdce1b54",
   "metadata": {},
   "source": [
    "clear()"
   ]
  },
  {
   "cell_type": "code",
   "execution_count": null,
   "id": "b593da40",
   "metadata": {},
   "outputs": [],
   "source": [
    "print (\"Método clear()\")\n",
    "conjunto = {'🍕','🍔','🍟','🌭'}\n",
    "print (conjunto)\n",
    "conjunto.clear()\n",
    "print(conjunto)"
   ]
  },
  {
   "cell_type": "code",
   "execution_count": null,
   "id": "24cf97c6",
   "metadata": {},
   "outputs": [],
   "source": [
    "#Métodos de operaciones con conjunto\n",
    "#union()\n",
    "print (\"Método union()\")\n",
    "conjunto1 = {'🍔','🍟', '🥤'}\n",
    "conjunto2 = {'🍕','🍨','🥤'}\n",
    "print (conjunto1, conjunto2)\n",
    "union = conjunto1.union(conjunto2)\n",
    "print(union)"
   ]
  },
  {
   "cell_type": "markdown",
   "id": "618b1a67",
   "metadata": {},
   "source": [
    "intersection(conjunto)"
   ]
  },
  {
   "cell_type": "code",
   "execution_count": null,
   "id": "22198aaf",
   "metadata": {},
   "outputs": [],
   "source": [
    "print (\"Método intersection()\")\n",
    "conjunto1 = {'🍔','🍟', '🥤'}\n",
    "conjunto2 = {'🍕','🍨','🥤'}\n",
    "print (conjunto1, conjunto2)\n",
    "interseccion = conjunto1.intersection(conjunto2)\n",
    "print(interseccion)"
   ]
  },
  {
   "cell_type": "markdown",
   "id": "f0cb36df",
   "metadata": {},
   "source": [
    "difference(conjunto)"
   ]
  },
  {
   "cell_type": "code",
   "execution_count": null,
   "id": "0ac5f7a1",
   "metadata": {},
   "outputs": [],
   "source": [
    "print (\"Método difference()\")\n",
    "conjunto1 = {'🍔','🍟', '🥤'}\n",
    "conjunto2 = {'🍕','🍨','🥤'}\n",
    "print (\"1:\",conjunto1, \"2:\",conjunto2)\n",
    "diferencia = conjunto1.difference(conjunto2)\n",
    "print(\"1 y 2:\",diferencia)\n",
    "diferencia = conjunto2.difference(conjunto1)\n",
    "print(\"2 y 1:\",diferencia)"
   ]
  },
  {
   "cell_type": "markdown",
   "id": "ff75ab20",
   "metadata": {},
   "source": [
    "symmetric_difference(conjunto)"
   ]
  },
  {
   "cell_type": "code",
   "execution_count": null,
   "id": "7ffeced2",
   "metadata": {},
   "outputs": [],
   "source": [
    "print (\"Método symmetric_difference()\")\n",
    "conjunto1 = {'🍔','🍟', '🥤'}\n",
    "conjunto2 = {'🍕','🍨','🥤'}\n",
    "print (conjunto1, conjunto2)\n",
    "diferencia_simetrica = conjunto1.symmetric_difference(conjunto2)\n",
    "print(diferencia_simetrica)"
   ]
  },
  {
   "cell_type": "markdown",
   "id": "16a2fd60",
   "metadata": {},
   "source": [
    "Métodos de asignación con operaciones"
   ]
  },
  {
   "cell_type": "code",
   "execution_count": null,
   "id": "538bf6d0",
   "metadata": {},
   "outputs": [],
   "source": [
    "print (\"Método intersection_update()\")\n",
    "conjunto1 = {'🍔','🍟', '🥤'}\n",
    "conjunto2 = {'🍕','🍨','🥤'}\n",
    "print (conjunto1, conjunto2)\n",
    "conjunto1.intersection_update(conjunto2)\n",
    "print(conjunto1)"
   ]
  },
  {
   "cell_type": "markdown",
   "id": "e7e68e2e",
   "metadata": {},
   "source": [
    "difference_update(conjunto)"
   ]
  },
  {
   "cell_type": "code",
   "execution_count": null,
   "id": "60e4fe49",
   "metadata": {},
   "outputs": [],
   "source": [
    "print (\"Método difference_update()\")\n",
    "conjunto1 = {'🍔','🍟', '🥤'}\n",
    "conjunto2 = {'🍕','🍨','🥤'}\n",
    "print (\"1:\",conjunto1, \"2:\",conjunto2)\n",
    "conjunto1.difference_update(conjunto2)\n",
    "print (\"1:\",conjunto1, \"2:\",conjunto2)"
   ]
  },
  {
   "cell_type": "markdown",
   "id": "194a7a4c",
   "metadata": {},
   "source": [
    "symmetric_difference_update(conjunto)"
   ]
  },
  {
   "cell_type": "code",
   "execution_count": null,
   "id": "ddbd10e8",
   "metadata": {},
   "outputs": [],
   "source": [
    "print (\"Método symmetric_difference_update()\")\n",
    "conjunto1 = {'🍔','🍟', '🥤'}\n",
    "conjunto2 = {'🍕','🍨','🥤'}\n",
    "print (conjunto1, conjunto2)\n",
    "conjunto1.symmetric_difference_update(conjunto2)\n",
    "print(conjunto1)"
   ]
  },
  {
   "cell_type": "markdown",
   "id": "3f0e61da",
   "metadata": {},
   "source": [
    "Métodos de búsqueda"
   ]
  },
  {
   "cell_type": "code",
   "execution_count": null,
   "id": "cd49eed8",
   "metadata": {},
   "outputs": [],
   "source": [
    "#issubset(conjunto)\n",
    "print (\"Método issubset()\")\n",
    "conjunto1 = {'🍔','🍟', '🥤'}\n",
    "conjunto2 = {'🍕','🍨','🥤'}\n",
    "conjunto3 = {'🍔','🍟'}\n",
    "print (conjunto1, conjunto2,conjunto3)\n",
    "# ¿El conjunto1 es subconjunto del conjunto2?\n",
    "print(conjunto1.issubset(conjunto2))\n",
    "# ¿El conjunto3 es subconjunto del conjunto1?\n",
    "print(conjunto3.issubset(conjunto1))"
   ]
  },
  {
   "cell_type": "code",
   "execution_count": null,
   "id": "590b5c52",
   "metadata": {},
   "outputs": [],
   "source": [
    "#issuperset(conjunto)\n",
    "print (\"Método issuperset()\")\n",
    "conjunto1 = {'🍔','🍟', '🥤'}\n",
    "conjunto2 = {'🍕','🍨','🥤'}\n",
    "conjunto3 = {'🍔','🍟'}\n",
    "print (conjunto1, conjunto2,conjunto3)\n",
    "# ¿El conjunto1 es superconjunto del conjunto2?\n",
    "print(conjunto1.issuperset(conjunto2)) # C1 contiene a C2?\n",
    "# ¿El conjunto1 es superconjunto del conjunto2?\n",
    "print(conjunto1.issuperset(conjunto3)) # C1 contiene a C3?"
   ]
  },
  {
   "cell_type": "markdown",
   "id": "cde5bdeb",
   "metadata": {},
   "source": [
    "isdisjoint(conjunto)"
   ]
  },
  {
   "cell_type": "code",
   "execution_count": null,
   "id": "18647d37",
   "metadata": {},
   "outputs": [],
   "source": [
    "print (\"Método isdisjoint()\")\n",
    "conjunto1 = {'🍔','🍟', '🥤'}\n",
    "conjunto2 = {'🍕','🍨'}\n",
    "conjunto3 = {'🍔','🍟'}\n",
    "print (conjunto1, conjunto2,conjunto3)\n",
    "# ¿El conjunto1 no tiene elementos en común con el conjunto2?\n",
    "print(conjunto1.isdisjoint(conjunto2))\n",
    "# ¿El conjunto1 no tiene elementos en común con el conjunto3?\n",
    "print(conjunto1.isdisjoint(conjunto3))"
   ]
  },
  {
   "cell_type": "markdown",
   "id": "541e6ab8",
   "metadata": {},
   "source": [
    "Métodos de copia"
   ]
  },
  {
   "cell_type": "code",
   "execution_count": null,
   "id": "af9a60f6",
   "metadata": {},
   "outputs": [],
   "source": [
    "print (\"Asignación por referencia\")\n",
    "conjunto = {'🍕','🍔','🍟','🌭'}\n",
    "print (conjunto)\n",
    "copia = conjunto\n",
    "copia.add('🥗')\n",
    "print(conjunto)\n",
    "print(copia)"
   ]
  },
  {
   "cell_type": "markdown",
   "id": "fe41ef8d",
   "metadata": {},
   "source": [
    "Para crear una copia de un conjunto se utiliza el método copy()"
   ]
  },
  {
   "cell_type": "code",
   "execution_count": null,
   "id": "e40e4291",
   "metadata": {},
   "outputs": [],
   "source": [
    "print (\"Método copy()\")\n",
    "conjunto = {'🍕','🍔','🍟','🌭'}\n",
    "print (conjunto)\n",
    "copia = conjunto.copy()\n",
    "copia.add('🥗')\n",
    "print(conjunto)\n",
    "print(copia)"
   ]
  },
  {
   "cell_type": "markdown",
   "id": "8704229e",
   "metadata": {},
   "source": [
    "Funciones con conjuntos\n",
    "len(conjunto)"
   ]
  },
  {
   "cell_type": "code",
   "execution_count": null,
   "id": "ff64fa3a",
   "metadata": {},
   "outputs": [],
   "source": [
    "print (\"Función len()\")\n",
    "conjunto = {'🍕','🍔','🍟','🌭'}\n",
    "print (conjunto)\n",
    "print(len(conjunto))"
   ]
  },
  {
   "cell_type": "markdown",
   "id": "dac2675a",
   "metadata": {},
   "source": [
    "max(conjunto)"
   ]
  },
  {
   "cell_type": "code",
   "execution_count": null,
   "id": "4eda3056",
   "metadata": {},
   "outputs": [],
   "source": [
    "print (\"Función max()\")\n",
    "conjunto = {1, 2, 3, 4, 5}\n",
    "print (conjunto)\n",
    "print (max(conjunto))\n",
    "conjunto = {'🍕','🍔','🍟','🌭'}\n",
    "print (conjunto)\n",
    "print(max(conjunto))"
   ]
  },
  {
   "cell_type": "markdown",
   "id": "9320d08e",
   "metadata": {},
   "source": [
    "min(conjunto)"
   ]
  },
  {
   "cell_type": "code",
   "execution_count": null,
   "id": "56ce2e1f",
   "metadata": {},
   "outputs": [],
   "source": [
    "print (\"Función min()\")\n",
    "conjunto = {1, 2, 3, 4, 5}\n",
    "print (conjunto)\n",
    "print (min(conjunto))\n",
    "conjunto = {'🍨','🍔','🍟','🍕'}\n",
    "print (conjunto)\n",
    "print(min(conjunto))"
   ]
  },
  {
   "cell_type": "markdown",
   "id": "2cfc3027",
   "metadata": {},
   "source": [
    "sum(conjunto)"
   ]
  },
  {
   "cell_type": "code",
   "execution_count": null,
   "id": "04cbc399",
   "metadata": {},
   "outputs": [],
   "source": [
    "print (\"Función sum()\")\n",
    "conjunto = {1, 2, 3, 4, 5}\n",
    "print (conjunto)\n",
    "print (sum(conjunto))"
   ]
  },
  {
   "cell_type": "markdown",
   "id": "9ba893d3",
   "metadata": {},
   "source": [
    "Operadores con conjuntos\n",
    "|= : Update"
   ]
  },
  {
   "cell_type": "code",
   "execution_count": null,
   "id": "318c024f",
   "metadata": {},
   "outputs": [],
   "source": [
    "print (\"Operador |=\")\n",
    "conjunto1 = {'🍔','🍟', '🥤'}\n",
    "conjunto2 = {'🍕','🍨'}\n",
    "print (conjunto1, conjunto2)\n",
    "conjunto1 |= conjunto2\n",
    "print(conjunto1)"
   ]
  },
  {
   "cell_type": "markdown",
   "id": "49711698",
   "metadata": {},
   "source": [
    "== compara si dos conjuntos son iguales"
   ]
  },
  {
   "cell_type": "code",
   "execution_count": null,
   "id": "2145bd43",
   "metadata": {},
   "outputs": [],
   "source": [
    "print (\"Operador ==\")\n",
    "conjunto1 = {'🍔','🍟', '🥤'}\n",
    "conjunto2 = {'🍔','🍟', '🥤'}\n",
    "conjunto3 = {'🍕','🍨'}\n",
    "print (conjunto1, conjunto2, conjunto3)\n",
    "print(conjunto1 == conjunto2)\n",
    "print(conjunto1 == conjunto3)"
   ]
  },
  {
   "cell_type": "code",
   "execution_count": null,
   "id": "d79f096b",
   "metadata": {},
   "outputs": [],
   "source": [
    "#!= compara si dos conjuntos son diferentes\n",
    "print (\"Operador !=\")\n",
    "conjunto1 = {'🍔','🍟', '🥤'}\n",
    "conjunto2 = {'🍔','🍟', '🥤'}\n",
    "conjunto3 = {'🍕','🍨'}\n",
    "print (conjunto1, conjunto2, conjunto3)\n",
    "print(conjunto1 != conjunto2)\n",
    "print(conjunto1 != conjunto3)"
   ]
  },
  {
   "cell_type": "code",
   "execution_count": null,
   "id": "81c44fe7",
   "metadata": {},
   "outputs": [],
   "source": [
    "#< compara si un conjunto es subconjunto y no igual a otro\n",
    "print (\"Operador <\")\n",
    "conjunto1 = {'🍔','🍟'}\n",
    "conjunto2 = {'🍔','🍟', '🥤'}\n",
    "conjunto3 = {'🍕','🍨'}\n",
    "print (conjunto1, conjunto2, conjunto3)\n",
    "print(conjunto1 < conjunto2)\n",
    "print(conjunto1 < conjunto3)"
   ]
  },
  {
   "cell_type": "code",
   "execution_count": null,
   "id": "42e3a4a2",
   "metadata": {},
   "outputs": [],
   "source": [
    "#> compara si un conjunto es superconjunto y no igual a otro\n",
    "print (\"Operador >\")\n",
    "conjunto1 = {'🍔','🍟','🥤','🍕'}\n",
    "conjunto2 = {'🍔','🍟', '🥤'}\n",
    "conjunto3 = {'🍕','🍨'}\n",
    "print (conjunto1, conjunto2, conjunto3)\n",
    "print(conjunto1 > conjunto2)\n",
    "print(conjunto1 > conjunto3)"
   ]
  },
  {
   "cell_type": "code",
   "execution_count": null,
   "id": "2c42e43f",
   "metadata": {},
   "outputs": [],
   "source": [
    "#<= compara si un conjunto es subconjunto o igual a otro\n",
    "print (\"Operador <=\")\n",
    "conjunto1 = {'🍔','🍟'}\n",
    "conjunto2 = {'🍔','🍟'}\n",
    "conjunto3 = {'🍕','🍨'}\n",
    "print (conjunto1, conjunto2, conjunto3)\n",
    "print(conjunto1 <= conjunto2)\n",
    "print(conjunto1 <= conjunto3)"
   ]
  },
  {
   "cell_type": "code",
   "execution_count": null,
   "id": "0e1b4add",
   "metadata": {},
   "outputs": [],
   "source": [
    "#>= compara si un conjunto es superconjunto o igual a otro\n",
    "print (\"Operador >=\")\n",
    "conjunto1 = {'🍔','🍟'}\n",
    "conjunto2 = {'🍔','🍟'}\n",
    "conjunto3 = {'🍕','🍨'}\n",
    "print (conjunto1, conjunto2, conjunto3)\n",
    "print(conjunto1 >= conjunto2)\n",
    "print(conjunto1 >= conjunto3)"
   ]
  },
  {
   "cell_type": "markdown",
   "id": "a930db12",
   "metadata": {},
   "source": [
    "Operadores para operaciones con conjuntos\n",
    "| retorna la unión de dos conjuntos"
   ]
  },
  {
   "cell_type": "code",
   "execution_count": null,
   "id": "57033aab",
   "metadata": {},
   "outputs": [],
   "source": [
    "print (\"Operador |\")\n",
    "conjunto1 = {'🍔','🍟', '🥤'}\n",
    "conjunto2 = {'🍕','🍨','🥤'}\n",
    "print (conjunto1, conjunto2)\n",
    "union = conjunto1 | conjunto2\n",
    "print(union)"
   ]
  },
  {
   "cell_type": "code",
   "execution_count": null,
   "id": "39c51b85",
   "metadata": {},
   "outputs": [],
   "source": [
    "#& retorna la intersección de dos conjuntos\n",
    "print (\"Operador &\")\n",
    "conjunto1 = {'🍔','🍟', '🥤'}\n",
    "conjunto2 = {'🍕','🍨','🥤'}\n",
    "print (conjunto1, conjunto2)\n",
    "interseccion = conjunto1 & conjunto2\n",
    "print(interseccion)"
   ]
  },
  {
   "cell_type": "code",
   "execution_count": null,
   "id": "0ad2d43f",
   "metadata": {},
   "outputs": [],
   "source": [
    "#- retorna la diferencia de dos conjuntos\n",
    "print (\"Operador -\")\n",
    "conjunto1 = {'🍔','🍟', '🥤'}\n",
    "conjunto2 = {'🍕','🍨','🥤'}\n",
    "print (\"1:\",conjunto1, \"2:\",conjunto2)\n",
    "diferencia = conjunto1 - conjunto2\n",
    "print(\"1 - 2:\",diferencia)\n",
    "diferencia = conjunto2 - conjunto1\n",
    "print(\"2 - 1:\",diferencia)"
   ]
  },
  {
   "cell_type": "code",
   "execution_count": null,
   "id": "93e44fa6",
   "metadata": {},
   "outputs": [],
   "source": [
    "#^ retorna la diferencia simétrica de dos conjuntos\n",
    "print (\"Operador ^\")\n",
    "conjunto1 = {'🍔','🍟', '🥤'}\n",
    "conjunto2 = {'🍕','🍨','🥤'}\n",
    "print (conjunto1, conjunto2)\n",
    "diferencia_simetrica = conjunto1 ^ conjunto2\n",
    "print(diferencia_simetrica)"
   ]
  },
  {
   "cell_type": "markdown",
   "id": "30f7c07e",
   "metadata": {},
   "source": [
    "|= recibe un conjunto y agrega al conjunto inicial los elementos del conjunto recibido"
   ]
  },
  {
   "cell_type": "code",
   "execution_count": null,
   "id": "86324739",
   "metadata": {},
   "outputs": [],
   "source": [
    "print (\"Operador |= Unión\")\n",
    "conjunto1 = {'🍔','🍟', '🥤'}\n",
    "conjunto2 = {'🍕','🍨','🥤'}\n",
    "print (conjunto1, conjunto2)\n",
    "conjunto1 |= conjunto2\n",
    "print(conjunto1)"
   ]
  },
  {
   "cell_type": "code",
   "execution_count": null,
   "id": "d367c084",
   "metadata": {},
   "outputs": [],
   "source": [
    "#&= recibe un conjunto y asigna al conjunto inicial la intersección de ambos conjuntos\n",
    "print (\"Operador &= Intersección\")\n",
    "conjunto1 = {'🍔','🍟', '🥤'}\n",
    "conjunto2 = {'🍕','🍨','🥤'}\n",
    "print (conjunto1, conjunto2)\n",
    "conjunto1 &= conjunto2\n",
    "print(conjunto1)"
   ]
  },
  {
   "cell_type": "code",
   "execution_count": null,
   "id": "6ac5a281",
   "metadata": {},
   "outputs": [],
   "source": [
    "#-=\n",
    "print (\"Operador -= Diferencia\")\n",
    "conjunto1 = {'🍔','🍟', '🥤'}\n",
    "conjunto2 = {'🍕','🍨','🥤'}\n",
    "print (\"1:\",conjunto1, \"2:\",conjunto2)\n",
    "conjunto1 -= conjunto2\n",
    "print(\"1 - 2:\",conjunto1)\n",
    "conjunto1 = {'🍔','🍟', '🥤'}\n",
    "conjunto2 -= conjunto1\n",
    "print(\"2 - 1:\",conjunto2)"
   ]
  },
  {
   "cell_type": "code",
   "execution_count": null,
   "id": "b8bbf179",
   "metadata": {},
   "outputs": [],
   "source": [
    "#^=\n",
    "print (\"Operador ^= Diferencia simétrica\")\n",
    "conjunto1 = {'🍔','🍟', '🥤'}\n",
    "conjunto2 = {'🍕','🍨','🥤'}\n",
    "print (conjunto1, conjunto2)\n",
    "conjunto1 ^= conjunto2\n",
    "print(conjunto1)"
   ]
  },
  {
   "cell_type": "code",
   "execution_count": null,
   "id": "8647d627",
   "metadata": {
    "lines_to_next_cell": 2
   },
   "outputs": [],
   "source": [
    "#Conjuntos inmutables\n",
    "#frozenset()\n",
    "conjunto = frozenset({'🍔','🍕','🥗','🍟','🌭'})\n",
    "print(conjunto)\n",
    "print(type(conjunto))"
   ]
  },
  {
   "cell_type": "code",
   "execution_count": null,
   "id": "719829ee",
   "metadata": {
    "lines_to_next_cell": 2
   },
   "outputs": [],
   "source": [
    "conjunto = frozenset({1, 2, 3, 4, 5})\n",
    "print(conjunto)\n",
    "print(conjunto.add(6)) # AttributeError: 'frozenset' object has no attribute 'add'\n",
    "print(conjunto.remove(1)) # AttributeError: 'frozenset' object has no attribute 'remove'\n",
    "#print(conjunto |= {6}) # SyntaxError: invalid syntax"
   ]
  },
  {
   "cell_type": "code",
   "execution_count": null,
   "id": "7469cab1",
   "metadata": {},
   "outputs": [],
   "source": [
    "print (\"Conjunto de conjuntos\")\n",
    "conjunto = {frozenset({'🍅','🍓','🍎'}), frozenset({'🍈','🍐','🍏'})}\n",
    "print(conjunto)\n",
    "print(type(conjunto))"
   ]
  }
 ],
 "metadata": {
  "jupytext": {
   "cell_metadata_filter": "-all",
   "main_language": "python",
   "notebook_metadata_filter": "-all"
  }
 },
 "nbformat": 4,
 "nbformat_minor": 5
}

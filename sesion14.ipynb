{
 "cells": [
  {
   "cell_type": "code",
   "execution_count": null,
   "id": "791ae422",
   "metadata": {
    "lines_to_next_cell": 1
   },
   "outputs": [],
   "source": [
    "def nombre_funcion():\n",
    "    print (\"Bloque de código\")"
   ]
  },
  {
   "cell_type": "code",
   "execution_count": null,
   "id": "93e6df28",
   "metadata": {
    "lines_to_next_cell": 1
   },
   "outputs": [],
   "source": [
    "nombre_funcion()\n",
    "print (type(nombre_funcion))"
   ]
  },
  {
   "cell_type": "code",
   "execution_count": null,
   "id": "0e4bcc7c",
   "metadata": {
    "lines_to_next_cell": 1
   },
   "outputs": [],
   "source": [
    "def funcion():\n",
    "    print (\"Bloque de código\")"
   ]
  },
  {
   "cell_type": "code",
   "execution_count": null,
   "id": "9f6bbca4",
   "metadata": {},
   "outputs": [],
   "source": [
    "funcion()\n",
    "#Ejemplo 1, Crear una función para imprimir una lista de 10 números pares y llamarla dos veces"
   ]
  },
  {
   "cell_type": "code",
   "execution_count": null,
   "id": "04919c3e",
   "metadata": {
    "lines_to_next_cell": 1
   },
   "outputs": [],
   "source": [
    "print (\"Ejemplo 1\")\n",
    "print (\"1. Definir función\")\n",
    "def imprimir_pares():\n",
    "    pares = [i for i in range(0, 21, 2)]\n",
    "    print (pares)"
   ]
  },
  {
   "cell_type": "code",
   "execution_count": null,
   "id": "bc557be6",
   "metadata": {},
   "outputs": [],
   "source": [
    "print (\"2. Llamar función\")\n",
    "imprimir_pares()\n",
    "imprimir_pares()"
   ]
  },
  {
   "cell_type": "code",
   "execution_count": null,
   "id": "c7e0d250",
   "metadata": {
    "lines_to_next_cell": 1
   },
   "outputs": [],
   "source": [
    "#Ejercicio 1, crear una función que imprima un mensaje de bienvenida del siguiente conjunto de forma aleatoria\n",
    "mensajes = {\"Bienvenido al Python Study Group 🐍\",\n",
    "\"¡Hola y bienvenido al Python Study Group! ✨\",\n",
    "\"Hola, aprendamos Python juntos 🐍\"}"
   ]
  },
  {
   "cell_type": "code",
   "execution_count": null,
   "id": "f198cf06",
   "metadata": {
    "lines_to_next_cell": 1
   },
   "outputs": [],
   "source": [
    "def bienvenida():\n",
    "    mensajes = {\"Bienvenido al Python Study Group 🐍\",\n",
    "    \"¡Hola y bienvenido al Python Study Group! ✨\",\n",
    "    \"Hola, aprendamos Python juntos 🐍\"}\n",
    "    print (mensajes.pop())"
   ]
  },
  {
   "cell_type": "code",
   "execution_count": null,
   "id": "df346476",
   "metadata": {
    "lines_to_next_cell": 1
   },
   "outputs": [],
   "source": [
    "bienvenida()"
   ]
  },
  {
   "cell_type": "code",
   "execution_count": null,
   "id": "6e9e9dfc",
   "metadata": {
    "lines_to_next_cell": 1
   },
   "outputs": [],
   "source": [
    "#Funciones sin argumentos y con un retorno\n",
    "def funcion():\n",
    "    return \"Bloque de código\""
   ]
  },
  {
   "cell_type": "code",
   "execution_count": null,
   "id": "6d81518a",
   "metadata": {
    "lines_to_next_cell": 1
   },
   "outputs": [],
   "source": [
    "resultado = funcion()\n",
    "print (resultado)"
   ]
  },
  {
   "cell_type": "markdown",
   "id": "8499b889",
   "metadata": {},
   "source": [
    "Ejemplo 2, Crear una función que devuelva un saludo en diferentes idiomas"
   ]
  },
  {
   "cell_type": "markdown",
   "id": "7fb4e6a5",
   "metadata": {},
   "source": [
    "print (\"Ejemplo 2\")\n",
    "print (\"1. Definir función\")\n",
    "def saludo():\n",
    "   saludos = {\"Hola\", \"Hello\", \"Bonjour\", \"Ciao\"}\n",
    "   return saludos.pop()"
   ]
  },
  {
   "cell_type": "markdown",
   "id": "ad696af6",
   "metadata": {},
   "source": [
    "print (\"2. Llamar función\")\n",
    "resultado = saludo()\n",
    "print (resultado)"
   ]
  },
  {
   "cell_type": "markdown",
   "id": "cebbd29d",
   "metadata": {},
   "source": [
    "Ejercicio 2, Devolver una fruta aleatoria del siguiente conjunto"
   ]
  },
  {
   "cell_type": "markdown",
   "id": "08145c35",
   "metadata": {},
   "source": [
    "frutas = {'🍅','🍌','🍎','🍇','🍉'}"
   ]
  },
  {
   "cell_type": "markdown",
   "id": "26c527e7",
   "metadata": {},
   "source": [
    "def devolver_fruta():\n",
    "   frutas = {'🍅','🍌','🍎','🍇','🍉'}\n",
    "   return frutas.pop()\n",
    "\n",
    "fruta = devolver_fruta()\n",
    "print (fruta)"
   ]
  },
  {
   "cell_type": "code",
   "execution_count": null,
   "id": "0df05c79",
   "metadata": {
    "lines_to_next_cell": 1
   },
   "outputs": [],
   "source": [
    "#Funciones sin argumentos y con múltiple retorno\n",
    "def funcion():\n",
    "    return \"Bloque\", \"de\", \"código\""
   ]
  },
  {
   "cell_type": "code",
   "execution_count": null,
   "id": "3aa99d06",
   "metadata": {
    "lines_to_next_cell": 1
   },
   "outputs": [],
   "source": [
    "resultado = funcion()\n",
    "print (resultado)"
   ]
  },
  {
   "cell_type": "markdown",
   "id": "62627908",
   "metadata": {},
   "source": [
    "Ejemplo 3, Crear una función que devuelva un saludo en dos idiomas"
   ]
  },
  {
   "cell_type": "markdown",
   "id": "f8450cec",
   "metadata": {},
   "source": [
    "print (\"Ejemplo 3\")\n",
    "print (\"1. Definir función\")\n",
    "def saludo():\n",
    "   saludos_es = {\"Hola\", \"Holi\", \"Buenos días\"}\n",
    "   saludos_en = {\"Hello\", \"Hi\", \"Good morning\"}\n",
    "   return saludos_es.pop(), saludos_en.pop()"
   ]
  },
  {
   "cell_type": "markdown",
   "id": "8fe977b2",
   "metadata": {},
   "source": [
    "print (\"2. Llamar función\")\n",
    "resultado = saludo()\n",
    "print (resultado)"
   ]
  },
  {
   "cell_type": "markdown",
   "id": "46ac87f6",
   "metadata": {},
   "source": [
    "Ejercicio 3, Devolver una fruta y un color aleatorio de los siguientes conjuntos"
   ]
  },
  {
   "cell_type": "markdown",
   "id": "36000c0e",
   "metadata": {},
   "source": [
    "frutas = {'🍅','🍌','🍎','🍇','🍉'}\n",
    "colores = {'🔴','🟠','🟡','🟢','🔵'}\n",
    "def devolver_fruta_color():\n",
    "   frutas = {'🍅','🍌','🍎','🍇','🍉'}\n",
    "   colores = {'🔴','🟠','🟡','🟢','🔵'}\n",
    "   return frutas.pop(), colores.pop()"
   ]
  },
  {
   "cell_type": "markdown",
   "id": "9d1d9968",
   "metadata": {},
   "source": [
    "fruta, color = devolver_fruta_color()\n",
    "print (fruta, color)"
   ]
  },
  {
   "cell_type": "markdown",
   "id": "797eb2e4",
   "metadata": {},
   "source": [
    "Funciones con un argumento y sin retorno"
   ]
  },
  {
   "cell_type": "code",
   "execution_count": null,
   "id": "d89c20cc",
   "metadata": {
    "lines_to_next_cell": 1
   },
   "outputs": [],
   "source": [
    "def funcion(parametro):\n",
    "    print (parametro)"
   ]
  },
  {
   "cell_type": "code",
   "execution_count": null,
   "id": "f29f7bd3",
   "metadata": {},
   "outputs": [],
   "source": [
    "funcion(\"Bloque de código\") #1 Argumento"
   ]
  },
  {
   "cell_type": "markdown",
   "id": "d831669a",
   "metadata": {},
   "source": [
    "Ejemplo 4, Crear una función que imprima el cuadrado de un número"
   ]
  },
  {
   "cell_type": "code",
   "execution_count": null,
   "id": "1a90b30d",
   "metadata": {
    "lines_to_next_cell": 1
   },
   "outputs": [],
   "source": [
    "print (\"Ejemplo 4\")\n",
    "print (\"1. Definir función\")\n",
    "def cuadrado(numero):\n",
    "    print (numero**2)"
   ]
  },
  {
   "cell_type": "code",
   "execution_count": null,
   "id": "a8c66924",
   "metadata": {},
   "outputs": [],
   "source": [
    "print (\"2. Llamar función\")\n",
    "cuadrado(5)\n",
    "cuadrado(10)"
   ]
  },
  {
   "cell_type": "markdown",
   "id": "b9acf561",
   "metadata": {},
   "source": [
    "Ejercicio 4, Crear una función que imprima el mensaje de bienvenida de acuerdo al un idioma enviado como argumento, si no existe imprimir un mensaje por defecto"
   ]
  },
  {
   "cell_type": "code",
   "execution_count": null,
   "id": "07cba4a1",
   "metadata": {
    "lines_to_next_cell": 1
   },
   "outputs": [],
   "source": [
    "mensajes = {\"es\":\"Bienvenido al Python Study Group 🐍\",\n",
    "\"en\": \"Hello and welcome to the Python Study Group! ✨\",\n",
    "}"
   ]
  },
  {
   "cell_type": "code",
   "execution_count": null,
   "id": "daf68b21",
   "metadata": {
    "lines_to_next_cell": 1
   },
   "outputs": [],
   "source": [
    "def bienvenida(idioma):\n",
    "    mensajes = {\n",
    "        \"es\":\"Bienvenido al Python Study Group 🐍\",\n",
    "        \"en\": \"Hello and welcome to the Python Study Group! ✨\",\n",
    "    }\n",
    "    print (mensajes.get(idioma, \"¡Hola!\"))"
   ]
  },
  {
   "cell_type": "code",
   "execution_count": null,
   "id": "cd995177",
   "metadata": {},
   "outputs": [],
   "source": [
    "bienvenida(\"es\")\n",
    "bienvenida(\"en\")\n",
    "bienvenida(\"fr\")"
   ]
  },
  {
   "cell_type": "markdown",
   "id": "3af4f6a5",
   "metadata": {},
   "source": [
    "Funciones con múltiples argumentos y sin retorno"
   ]
  },
  {
   "cell_type": "markdown",
   "id": "671d9784",
   "metadata": {},
   "source": [
    "def funcion(param1, param2, ...,  paramN):\n",
    "   print (param1, param2, ..., paramN)"
   ]
  },
  {
   "cell_type": "markdown",
   "id": "514b8d21",
   "metadata": {},
   "source": [
    "funcion(\"Bloque\", \"de\", \"código\")"
   ]
  },
  {
   "cell_type": "markdown",
   "id": "c26e9c80",
   "metadata": {},
   "source": [
    "Ejemplo 5, Crear una función que reciba una cadena y un entero y repita la cadena el número de veces"
   ]
  },
  {
   "cell_type": "code",
   "execution_count": null,
   "id": "75498c5b",
   "metadata": {
    "lines_to_next_cell": 1
   },
   "outputs": [],
   "source": [
    "print (\"Ejemplo 5\")\n",
    "print (\"1. Definir función\")\n",
    "def repetir(cadena, veces):\n",
    "    print (cadena*veces)"
   ]
  },
  {
   "cell_type": "code",
   "execution_count": null,
   "id": "14a308a0",
   "metadata": {},
   "outputs": [],
   "source": [
    "print (\"2. Llamar función\")\n",
    "repetir(\"✨🎉\", 10)"
   ]
  },
  {
   "cell_type": "markdown",
   "id": "3c72ccec",
   "metadata": {},
   "source": [
    "Ejercicio 5, Crear una función que reciba una lista de animales, un entero e imprima una lista con los animales repetidos el número de veces"
   ]
  },
  {
   "cell_type": "code",
   "execution_count": null,
   "id": "4126a9f8",
   "metadata": {
    "lines_to_next_cell": 1
   },
   "outputs": [],
   "source": [
    "# Entrada\n",
    "animales = ['🐶','🐱','🐭','🐹','🐰']\n",
    "# Salida\n",
    "animales = ['🐶🐶🐶', '🐱🐱🐱', '🐭🐭🐭', '🐹🐹🐹', '🐰🐰🐰']"
   ]
  },
  {
   "cell_type": "code",
   "execution_count": null,
   "id": "f9aca2d0",
   "metadata": {
    "lines_to_next_cell": 1
   },
   "outputs": [],
   "source": [
    "def repetir_animales(animales, veces):\n",
    "    lista = [animal*veces for animal in animales]\n",
    "    print (lista)"
   ]
  },
  {
   "cell_type": "code",
   "execution_count": null,
   "id": "1b7e8336",
   "metadata": {},
   "outputs": [],
   "source": [
    "animales = ['🐶','🐱','🐭','🐹','🐰']\n",
    "repetir_animales(animales, 3)"
   ]
  },
  {
   "cell_type": "code",
   "execution_count": null,
   "id": "9970bf38",
   "metadata": {
    "lines_to_next_cell": 1
   },
   "outputs": [],
   "source": [
    "print (resultado)"
   ]
  },
  {
   "cell_type": "code",
   "execution_count": null,
   "id": "1df22d29",
   "metadata": {
    "lines_to_next_cell": 1
   },
   "outputs": [],
   "source": [
    "#Funciones con múltiples argumentos y con un retorno\n",
    "def funcion(param1, param2, paramN):\n",
    "    return param1"
   ]
  },
  {
   "cell_type": "code",
   "execution_count": null,
   "id": "140fc49d",
   "metadata": {},
   "outputs": [],
   "source": [
    "resultado = funcion(\"Bloque\", \"de\", \"código\")\n",
    "print (resultado)"
   ]
  },
  {
   "cell_type": "markdown",
   "id": "dc53b046",
   "metadata": {},
   "source": [
    "Ejemplo 6, Crear una función que reciba dos números y devuelva una lista con la suma, resta, multiplicación y división de los números"
   ]
  },
  {
   "cell_type": "code",
   "execution_count": null,
   "id": "9b495ae1",
   "metadata": {
    "lines_to_next_cell": 1
   },
   "outputs": [],
   "source": [
    "print (\"Ejemplo 6\")\n",
    "print (\"1. Definir función\")\n",
    "def operaciones(numero1, numero2):\n",
    "    suma = numero1 + numero2\n",
    "    resta = numero1 - numero2\n",
    "    multiplicacion = numero1 * numero2\n",
    "    division = numero1 / numero2\n",
    "    return [suma, resta, multiplicacion, division]"
   ]
  },
  {
   "cell_type": "code",
   "execution_count": null,
   "id": "23a6a689",
   "metadata": {
    "lines_to_next_cell": 1
   },
   "outputs": [],
   "source": [
    "print (\"2. Llamar función\")\n",
    "resultado = operaciones(10, 5)\n",
    "print (resultado)"
   ]
  },
  {
   "cell_type": "markdown",
   "id": "8b721722",
   "metadata": {},
   "source": [
    "Ejercicio 6, Crear una función que reciba dos enteros y una cadena devolver el resultado de la operación de los números según la cadena puede ser suma, resta, multiplicación o división"
   ]
  },
  {
   "cell_type": "code",
   "execution_count": null,
   "id": "b5198883",
   "metadata": {
    "lines_to_next_cell": 1
   },
   "outputs": [],
   "source": [
    "def operacion(numero1, numero2, operacion):\n",
    "    if operacion == \"suma\":\n",
    "        return numero1 + numero2\n",
    "    elif operacion == \"resta\":\n",
    "        return numero1 - numero2\n",
    "    elif operacion == \"multiplicacion\":\n",
    "        return numero1 * numero2\n",
    "    elif operacion == \"division\":\n",
    "        return numero1 / numero2\n",
    "    else:\n",
    "        return \"Operación no válida\""
   ]
  },
  {
   "cell_type": "code",
   "execution_count": null,
   "id": "fa449cd1",
   "metadata": {},
   "outputs": [],
   "source": [
    "resultado = operacion(10, 5, \"suma\")\n",
    "print (resultado)"
   ]
  },
  {
   "cell_type": "markdown",
   "id": "08d2d030",
   "metadata": {},
   "source": [
    "Funciones con múltiples argumentos y con múltiple retorno\n",
    "def funcion(param1, param2, ..., paramN):\n",
    "   return param1, param2, ..., paramN"
   ]
  },
  {
   "cell_type": "markdown",
   "id": "a4d9bd0e",
   "metadata": {},
   "source": [
    "resultado = funcion(\"Bloque\", \"de\", \"código\")\n",
    "print (resultado)"
   ]
  },
  {
   "cell_type": "markdown",
   "id": "7e6c0dc0",
   "metadata": {},
   "source": [
    "Ejemplo 7, Crear una función que reciba dos números y devuelva la suma, resta, multiplicación y división de los dos números"
   ]
  },
  {
   "cell_type": "code",
   "execution_count": null,
   "id": "f81578c1",
   "metadata": {
    "lines_to_next_cell": 1
   },
   "outputs": [],
   "source": [
    "print (\"Ejemplo 7\")\n",
    "print (\"1. Definir función\")\n",
    "def operaciones(numero1, numero2):\n",
    "    suma = numero1 + numero2\n",
    "    resta = numero1 - numero2\n",
    "    multiplicacion = numero1 * numero2\n",
    "    division = numero1 / numero2\n",
    "    return suma, resta, multiplicacion, division"
   ]
  },
  {
   "cell_type": "code",
   "execution_count": null,
   "id": "1b2adafb",
   "metadata": {},
   "outputs": [],
   "source": [
    "print (\"2. Llamar función\")\n",
    "suma, resta, multiplicacion, division = operaciones(10, 5)\n",
    "print (suma, resta, multiplicacion, division)"
   ]
  },
  {
   "cell_type": "markdown",
   "id": "9896203a",
   "metadata": {},
   "source": [
    "Ejercicio 7, Crear una juego de piedra papel o tijera, donde reciba dos jugadas por teclado"
   ]
  },
  {
   "cell_type": "markdown",
   "id": "ccdb8eee",
   "metadata": {},
   "source": [
    "def jugar_piedra_papel_tijera(jugada1, jugada2):\n",
    "   if jugada1 == jugada2:\n",
    "       resultado = \"Empate\"\n",
    "   elif jugada1 == \"piedra\" and jugada2 == \"tijera\":\n",
    "       resultado = \"Jugador 1 gana\"\n",
    "   elif jugada1 == \"papel\" and jugada2 == \"piedra\":\n",
    "       resultado = \"Jugador 1 gana\"\n",
    "   elif jugada1 == \"tijera\" and jugada2 == \"papel\":\n",
    "       resultado = \"Jugador 1 gana\"\n",
    "   else:\n",
    "       resultado = \"Jugador 2 gana\"\n",
    "   return jugada1, jugada2, resultado"
   ]
  },
  {
   "cell_type": "markdown",
   "id": "b0e66aee",
   "metadata": {},
   "source": [
    "while True:\n",
    "   jugador1 = input(\"Jugador 1: \")\n",
    "   if jugador1 == \"salir\":\n",
    "       break\n",
    "   jugador2 = input(\"Jugador 2: \")\n",
    "   if jugador2 == \"salir\":\n",
    "       break\n",
    "   resultado = jugar_piedra_papel_tijera(jugador1, jugador2)\n",
    "   print (resultado)"
   ]
  },
  {
   "cell_type": "markdown",
   "id": "d94e23e0",
   "metadata": {},
   "source": [
    "Variables globales y locales"
   ]
  },
  {
   "cell_type": "code",
   "execution_count": null,
   "id": "945336c7",
   "metadata": {
    "lines_to_next_cell": 1
   },
   "outputs": [],
   "source": [
    "variable_global = \"Variable global\""
   ]
  },
  {
   "cell_type": "code",
   "execution_count": null,
   "id": "91718391",
   "metadata": {
    "lines_to_next_cell": 1
   },
   "outputs": [],
   "source": [
    "def funcion():\n",
    "    variable_local = \"Variable local\"\n",
    "    print(\"✨\", variable_global)\n",
    "    print(\"✨\", variable_local)\n",
    "    return variable_local"
   ]
  },
  {
   "cell_type": "code",
   "execution_count": null,
   "id": "6ee45ac0",
   "metadata": {},
   "outputs": [],
   "source": [
    "resultado = funcion()\n",
    "print(\"🎈\", variable_global)\n",
    "print(\"🎈\", resultado)"
   ]
  },
  {
   "cell_type": "code",
   "execution_count": null,
   "id": "45735bc0",
   "metadata": {
    "lines_to_next_cell": 1
   },
   "outputs": [],
   "source": [
    "#Prioridad\n",
    "variable = \"Variable global\"\n",
    "print ('0.',variable)"
   ]
  },
  {
   "cell_type": "code",
   "execution_count": null,
   "id": "4411da3c",
   "metadata": {
    "lines_to_next_cell": 1
   },
   "outputs": [],
   "source": [
    "def funcion():\n",
    "    variable = \"Variable local\"\n",
    "    print ('1.',variable)"
   ]
  },
  {
   "cell_type": "code",
   "execution_count": null,
   "id": "7f9127b4",
   "metadata": {},
   "outputs": [],
   "source": [
    "funcion()\n",
    "print ('2.',variable)"
   ]
  },
  {
   "cell_type": "markdown",
   "id": "171c9522",
   "metadata": {},
   "source": [
    "Ejemplo 8, De la siguiente lista de números obtener el mayor y menor número con una función"
   ]
  },
  {
   "cell_type": "code",
   "execution_count": null,
   "id": "6c1c1323",
   "metadata": {
    "lines_to_next_cell": 1
   },
   "outputs": [],
   "source": [
    "numeros = [10, 5, 20, 15, 25, 30] #Global"
   ]
  },
  {
   "cell_type": "code",
   "execution_count": null,
   "id": "79ccf6c8",
   "metadata": {
    "lines_to_next_cell": 1
   },
   "outputs": [],
   "source": [
    "def mayor_menor(): #No recibe argumentos\n",
    "    mayor = max(numeros) #Local\n",
    "    menor = min(numeros) #Local\n",
    "    return mayor, menor #Devuelve dos valores"
   ]
  },
  {
   "cell_type": "code",
   "execution_count": null,
   "id": "9446f641",
   "metadata": {},
   "outputs": [],
   "source": [
    "resultado = mayor_menor()\n",
    "print (resultado)"
   ]
  },
  {
   "cell_type": "markdown",
   "id": "b4528331",
   "metadata": {},
   "source": [
    "Ejercicio 8, De la siguiente cadena global convertir en formato título y contar las vocales aeiou con una función"
   ]
  },
  {
   "cell_type": "code",
   "execution_count": null,
   "id": "95b38a4c",
   "metadata": {
    "lines_to_next_cell": 1
   },
   "outputs": [],
   "source": [
    "cadena = \"python es un lenguaje de programación\""
   ]
  },
  {
   "cell_type": "code",
   "execution_count": null,
   "id": "2c2a3bfd",
   "metadata": {
    "lines_to_next_cell": 1
   },
   "outputs": [],
   "source": [
    "def formato_vocales():\n",
    "    titulo = cadena.title()\n",
    "    vocales = sum([1 for letra in titulo if letra in \"aeiou\"])\n",
    "    return titulo, vocales"
   ]
  },
  {
   "cell_type": "code",
   "execution_count": null,
   "id": "7e8ca87f",
   "metadata": {},
   "outputs": [],
   "source": [
    "cadena = \"python es un lenguaje de programación\"\n",
    "resultado = formato_vocales()"
   ]
  },
  {
   "cell_type": "code",
   "execution_count": null,
   "id": "6337f3e9",
   "metadata": {
    "lines_to_next_cell": 1
   },
   "outputs": [],
   "source": [
    "print (resultado)"
   ]
  },
  {
   "cell_type": "markdown",
   "id": "768a3b69",
   "metadata": {},
   "source": [
    "Args y Kwargs"
   ]
  },
  {
   "cell_type": "code",
   "execution_count": null,
   "id": "85bc5ebc",
   "metadata": {
    "lines_to_next_cell": 1
   },
   "outputs": [],
   "source": [
    "def funcion(*args):\n",
    "    print (args)\n",
    "    print (type(args))"
   ]
  },
  {
   "cell_type": "code",
   "execution_count": null,
   "id": "8d45020f",
   "metadata": {},
   "outputs": [],
   "source": [
    "funcion(\"Bloque\", \"de\", \"código\")"
   ]
  },
  {
   "cell_type": "markdown",
   "id": "8aee01f2",
   "metadata": {},
   "source": [
    "Ejemplo 9 Crear una función que reciba un número y una cantidad de cadenas, concatene las cadenas y la devuelva repetida N veces"
   ]
  },
  {
   "cell_type": "code",
   "execution_count": null,
   "id": "38211b66",
   "metadata": {
    "lines_to_next_cell": 1
   },
   "outputs": [],
   "source": [
    "print (\"Ejemplo 9\")\n",
    "print (\"1. Definir función\")\n",
    "def concatenar(numero, *cadenas):\n",
    "    concatenado = \"\"\n",
    "    for cadena in cadenas:\n",
    "        concatenado += cadena\n",
    "    return concatenado*numero"
   ]
  },
  {
   "cell_type": "code",
   "execution_count": null,
   "id": "73f90ff1",
   "metadata": {},
   "outputs": [],
   "source": [
    "print (\"2. Llamar función\")\n",
    "resultado = concatenar(3, \"🍎\", \"🍌\", \"🍍\")\n",
    "print (resultado)"
   ]
  },
  {
   "cell_type": "markdown",
   "id": "228801d5",
   "metadata": {},
   "source": [
    "Ejercicio 9, Crear una función que reciba N objetos y genere una tupla y una lista con los objetos usando *args"
   ]
  },
  {
   "cell_type": "code",
   "execution_count": null,
   "id": "cc8b34a8",
   "metadata": {
    "lines_to_next_cell": 1
   },
   "outputs": [],
   "source": [
    "1, 1.1, True, \"🍎\""
   ]
  },
  {
   "cell_type": "code",
   "execution_count": null,
   "id": "d0a4a25f",
   "metadata": {
    "lines_to_next_cell": 1
   },
   "outputs": [],
   "source": [
    "def tupla_lista(*args):\n",
    "    tupla = tuple(args)\n",
    "    lista = list(args)\n",
    "    return tupla, lista"
   ]
  },
  {
   "cell_type": "code",
   "execution_count": null,
   "id": "394ade98",
   "metadata": {},
   "outputs": [],
   "source": [
    "lista, tupla = tupla_lista(1, 1.1, True, \"🍎\")"
   ]
  },
  {
   "cell_type": "code",
   "execution_count": null,
   "id": "1fbee414",
   "metadata": {
    "lines_to_next_cell": 1
   },
   "outputs": [],
   "source": [
    "print (lista)\n",
    "print (tupla)"
   ]
  },
  {
   "cell_type": "code",
   "execution_count": null,
   "id": "70a7f793",
   "metadata": {
    "lines_to_next_cell": 1
   },
   "outputs": [],
   "source": [
    "#Kwargs\n",
    "def funcion(**kwargs):\n",
    "    print (kwargs)\n",
    "    print (type(kwargs))"
   ]
  },
  {
   "cell_type": "code",
   "execution_count": null,
   "id": "871d4855",
   "metadata": {},
   "outputs": [],
   "source": [
    "funcion(nombre=\"Jhon\", apellido=\"Doe\", genero=\"M\")"
   ]
  },
  {
   "cell_type": "markdown",
   "id": "5e3bd29f",
   "metadata": {},
   "source": [
    "Ejemplo 10, Crear una función que reciba los datos de una persona y devuelva un mensaje con los datos"
   ]
  },
  {
   "cell_type": "code",
   "execution_count": null,
   "id": "087d3948",
   "metadata": {},
   "outputs": [],
   "source": [
    "print (\"Ejemplo 10\")\n",
    "print (\"1. Definir función\")\n",
    "def datos_persona(**datos):\n",
    "    mensaje = \"\"\n",
    "    for clave, valor in datos.items():\n",
    "        mensaje += f\"{str(clave).title()}: {str(valor).upper()}\\n\"\n",
    "    return mensaje\n",
    "print (\"2. Llamar función\")\n",
    "resultado = datos_persona(nombre=\"Jhon\", apellido=\"Doe\", edad=20, boliviano=True)\n",
    "print (resultado)"
   ]
  },
  {
   "cell_type": "code",
   "execution_count": null,
   "id": "bd05fce9",
   "metadata": {},
   "outputs": [],
   "source": []
  },
  {
   "cell_type": "markdown",
   "id": "7c333dbb",
   "metadata": {},
   "source": [
    "Ejercicio 10, Crea un simulador de lavar platos con una función que reciba los objetos a lavar y el tiempo de lavado de cada objeto devuelva un mensaje con los objetos lavados y el tiempo total de lavado"
   ]
  },
  {
   "cell_type": "code",
   "execution_count": null,
   "id": "a1e7e35a",
   "metadata": {
    "lines_to_next_cell": 1
   },
   "outputs": [],
   "source": [
    "def lavar(**objetos):\n",
    "    tiempo_total = 0\n",
    "    mensaje = \"\"\n",
    "    for objeto, tiempo in objetos.items():\n",
    "        tiempo_total += tiempo\n",
    "        mensaje += f\"{objeto}: {tiempo} minutos\\n\"\n",
    "    mensaje += f\"Tiempo total: {tiempo_total} minutos\"\n",
    "    return mensaje"
   ]
  },
  {
   "cell_type": "code",
   "execution_count": null,
   "id": "668472f5",
   "metadata": {},
   "outputs": [],
   "source": [
    "resultado = lavar(plato=5, vaso=3, tenedor=1, cuchara=0.5)\n",
    "print (resultado)"
   ]
  },
  {
   "cell_type": "markdown",
   "id": "3cfd253b",
   "metadata": {},
   "source": [
    "Documentación de una función"
   ]
  },
  {
   "cell_type": "markdown",
   "id": "6449eed4",
   "metadata": {},
   "source": [
    "Acceso a la documentación con .__doc__"
   ]
  },
  {
   "cell_type": "code",
   "execution_count": null,
   "id": "8cf1467f",
   "metadata": {},
   "outputs": [],
   "source": [
    "print (\"Acceso a la documentación\")\n",
    "def funcion():\n",
    "    \"\"\"\n",
    "    Documentación aquí\n",
    "    \"\"\"\n",
    "    print (\"Bloque de código\")\n",
    "print (funcion.__doc__)\n",
    "print (\"Fin de la ejecución\")\n",
    "#Ejemplo 11, Crear tres funciones una principal que reciba un número y dos funciones anidadas que devuelvan el cuadrado y el cubo del número"
   ]
  },
  {
   "cell_type": "code",
   "execution_count": null,
   "id": "ed853ba3",
   "metadata": {
    "lines_to_next_cell": 1
   },
   "outputs": [],
   "source": [
    "print (\"Ejemplo 11\")\n",
    "print (\"1. Definir función Principal\")\n",
    "def principal(numero):\n",
    "    cuadrado = cuadrado_numero(numero)\n",
    "    cubo = cubo_numero(numero)\n",
    "    return cuadrado, cubo"
   ]
  },
  {
   "cell_type": "code",
   "execution_count": null,
   "id": "dd54b5a3",
   "metadata": {
    "lines_to_next_cell": 1
   },
   "outputs": [],
   "source": [
    "print (\"2. Definir función Cuadrado\")\n",
    "def cuadrado_numero(numero):\n",
    "    return numero**2"
   ]
  },
  {
   "cell_type": "code",
   "execution_count": null,
   "id": "2d8ebfb7",
   "metadata": {
    "lines_to_next_cell": 1
   },
   "outputs": [],
   "source": [
    "print (\"3. Definir función Cubo\")\n",
    "def cubo_numero(numero):\n",
    "    return numero**3"
   ]
  },
  {
   "cell_type": "code",
   "execution_count": null,
   "id": "0d887323",
   "metadata": {},
   "outputs": [],
   "source": [
    "print (\"4. Llamar función Principal\")\n",
    "numero = 5\n",
    "resultado = principal(numero)\n",
    "print (numero, resultado)"
   ]
  },
  {
   "cell_type": "markdown",
   "id": "e353d817",
   "metadata": {},
   "source": [
    "Ejercicio 11, Crear funciones de limpieza de una cadena para obtener las letras y convertir todo en mayúsculas crea funciones de limpieza y función una principal"
   ]
  },
  {
   "cell_type": "code",
   "execution_count": null,
   "id": "b13dbfbd",
   "metadata": {
    "lines_to_next_cell": 1
   },
   "outputs": [],
   "source": [
    "cadena = \"Python es un lenguaje de programación 🎈. Feliz Aprendizaje el 2025\""
   ]
  },
  {
   "cell_type": "code",
   "execution_count": null,
   "id": "5c53cea5",
   "metadata": {
    "lines_to_next_cell": 1
   },
   "outputs": [],
   "source": [
    "def limpiar_letras(cadena):\n",
    "    \"\"\"\n",
    "    Elimina los números de una cadena y espacios\n",
    "    \"\"\"\n",
    "    return \"\".join([letra for letra in cadena if letra.isalpha()])\n",
    "def limpiar_mayusculas(cadena):\n",
    "    \"\"\"\n",
    "    Convierte una cadena en mayúsculas\n",
    "    \"\"\"\n",
    "    return cadena.upper()"
   ]
  },
  {
   "cell_type": "code",
   "execution_count": null,
   "id": "0c8a362d",
   "metadata": {
    "lines_to_next_cell": 1
   },
   "outputs": [],
   "source": [
    "def limpiar(cadena):\n",
    "    cadena = limpiar_letras(cadena)\n",
    "    cadena = limpiar_mayusculas(cadena)\n",
    "    return cadena"
   ]
  },
  {
   "cell_type": "code",
   "execution_count": null,
   "id": "0a09536c",
   "metadata": {},
   "outputs": [],
   "source": [
    "cadena = \"Python es un lenguaje de programación 🎈. Feliz Aprendizaje el 2025\"\n",
    "resultado = limpiar(cadena)\n",
    "print (cadena)\n",
    "print (resultado)"
   ]
  },
  {
   "cell_type": "markdown",
   "id": "7a08e9d2",
   "metadata": {},
   "source": [
    "Funciones Recursivas\n",
    "Ejemplo 12, Crear una función recursiva para obtener el 10 número par"
   ]
  },
  {
   "cell_type": "code",
   "execution_count": null,
   "id": "7d888a85",
   "metadata": {
    "lines_to_next_cell": 1
   },
   "outputs": [],
   "source": [
    "print (\"Ejemplo 12\")\n",
    "print (\"1. Definir función\")\n",
    "def numero_par(numero):\n",
    "    if numero == 0:\n",
    "        return 0\n",
    "    else:\n",
    "        return numero_par(numero-1) + 2"
   ]
  },
  {
   "cell_type": "code",
   "execution_count": null,
   "id": "0a950674",
   "metadata": {
    "lines_to_next_cell": 1
   },
   "outputs": [],
   "source": [
    "print (\"2. Llamar función\")\n",
    "resultado = numero_par(10)\n",
    "print (resultado)"
   ]
  },
  {
   "cell_type": "markdown",
   "id": "86ec638b",
   "metadata": {},
   "source": [
    "Ejercicio 12, Crear una función recursiva para obtener el factorial de un número"
   ]
  },
  {
   "cell_type": "markdown",
   "id": "7361cb37",
   "metadata": {},
   "source": [
    "5!=5∗4∗3∗2∗1=120"
   ]
  },
  {
   "cell_type": "code",
   "execution_count": null,
   "id": "46571a6b",
   "metadata": {
    "lines_to_next_cell": 1
   },
   "outputs": [],
   "source": [
    "def factorial(numero):\n",
    "    if numero == 0:\n",
    "        return 1\n",
    "    else:\n",
    "        return numero*factorial(numero-1)"
   ]
  },
  {
   "cell_type": "code",
   "execution_count": null,
   "id": "ff66dd91",
   "metadata": {},
   "outputs": [],
   "source": [
    "resultado = factorial(5)\n",
    "print (resultado)"
   ]
  },
  {
   "cell_type": "markdown",
   "id": "58a61b26",
   "metadata": {},
   "source": [
    "Ejemplo 13, Crear una función anónima para obtener el cuadrado de un número"
   ]
  },
  {
   "cell_type": "code",
   "execution_count": null,
   "id": "a46771e0",
   "metadata": {},
   "outputs": [],
   "source": [
    "print (\"Ejemplo 13\")\n",
    "cuadrado = lambda numero: numero**2\n",
    "resultado = cuadrado(5)\n",
    "print (resultado)\n",
    "resultado = cuadrado(10)\n",
    "print (resultado)"
   ]
  },
  {
   "cell_type": "markdown",
   "id": "696a26d9",
   "metadata": {},
   "source": [
    "Ejercicio 13, Crear una función anónima para obtener de una cadena las letras solo los alfanuméricos y convertir en mayúsculas"
   ]
  },
  {
   "cell_type": "code",
   "execution_count": null,
   "id": "eabec8ee",
   "metadata": {},
   "outputs": [],
   "source": [
    "cadena = \"Python es un lenguaje de programación\"\n",
    "cadena = \"Python es un lenguaje de programación\"\n",
    "limpiar = lambda cadena: \"\".join([letra for letra in cadena if letra.isalnum()]).upper()\n",
    "resultado = limpiar(cadena)\n",
    "print (cadena)\n",
    "print (resultado)"
   ]
  }
 ],
 "metadata": {
  "jupytext": {
   "cell_metadata_filter": "-all",
   "main_language": "python",
   "notebook_metadata_filter": "-all"
  }
 },
 "nbformat": 4,
 "nbformat_minor": 5
}

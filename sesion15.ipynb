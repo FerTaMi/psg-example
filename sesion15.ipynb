{
 "cells": [
  {
   "cell_type": "markdown",
   "id": "440506c6",
   "metadata": {},
   "source": [
    "Ejemplo 1, División por cero"
   ]
  },
  {
   "cell_type": "markdown",
   "id": "7438e5a8",
   "metadata": {},
   "source": [
    "print (\"Inicio Ejemplo 1\")\n",
    "x = 1 / 0\n",
    "print (x)\n",
    "print (\"Fin Ejemplo 1\")"
   ]
  },
  {
   "cell_type": "markdown",
   "id": "5974f21c",
   "metadata": {},
   "source": [
    "Ejercicio 1, Crear un programa que solicite dos números y realice la división de ambos números Si hay un error mostrar un mensaje de error El programa se detiene si se ingresa \"salir\""
   ]
  },
  {
   "cell_type": "markdown",
   "id": "b4f90610",
   "metadata": {},
   "source": [
    "while True:\n",
    "   try:\n",
    "       num1 = input(\"Ingrese el primer número: \")\n",
    "       if num1 == \"salir\":\n",
    "           break\n",
    "       num2 = input(\"Ingrese el segundo número: \")\n",
    "       if num2 == \"salir\":\n",
    "           break\n",
    "       num1 = float(num1)\n",
    "       num2 = float(num2)\n",
    "       print(\"Resultado:\", num1 / num2)\n",
    "   except Exception as e:\n",
    "       print(\"💀 Error:\", e)"
   ]
  },
  {
   "cell_type": "markdown",
   "id": "688cc93e",
   "metadata": {},
   "source": [
    "Ejemplo 2, División por cero"
   ]
  },
  {
   "cell_type": "markdown",
   "id": "1462775b",
   "metadata": {},
   "source": [
    "print (\"Inicio Ejemplo 2\")\n",
    "divisor = \"0\"\n",
    "try:\n",
    "   x = 1 / divisor\n",
    "   print (x)\n",
    "except ZeroDivisionError as e:\n",
    "   print(\"0️⃣ Error:\", e, type(e))\n",
    "except Exception as e:\n",
    "   print(\"💀 Error:\", e, type(e))\n",
    "print (\"Fin Ejemplo 2\")"
   ]
  },
  {
   "cell_type": "markdown",
   "id": "ef9e5fc6",
   "metadata": {},
   "source": [
    "corre"
   ]
  },
  {
   "cell_type": "markdown",
   "id": "39210edd",
   "metadata": {},
   "source": [
    "print(\"Inicio Ejemplo 2\")"
   ]
  },
  {
   "cell_type": "markdown",
   "id": "b4e14264",
   "metadata": {},
   "source": [
    "divisor = 0  # número, no texto"
   ]
  },
  {
   "cell_type": "markdown",
   "id": "0208d1fa",
   "metadata": {},
   "source": [
    "try:\n",
    "   x = 1 / divisor\n",
    "   print(x)\n",
    "except ZeroDivisionError as e:\n",
    "   print(\"0️⃣ Error:\", e, type(e))\n",
    "except Exception as e:\n",
    "   print(\"💀 Error:\", e, type(e))"
   ]
  },
  {
   "cell_type": "markdown",
   "id": "df3dab47",
   "metadata": {},
   "source": [
    "print(\"Fin Ejemplo 2\")"
   ]
  },
  {
   "cell_type": "markdown",
   "id": "1ce39427",
   "metadata": {},
   "source": [
    "Jerarquía de excepciones"
   ]
  },
  {
   "cell_type": "markdown",
   "id": "47bdfe83",
   "metadata": {
    "lines_to_next_cell": 2
   },
   "source": [
    "Ejemplo 2, División por cero\n",
    "print (\"Inicio Ejemplo 2\")\n",
    "divisor = 0\n",
    "try:\n",
    "   x = 1 / divisor\n",
    "   print (x)\n",
    "except Exception as e: # Captura cualquier excepción\n",
    "   print(\"💀 Error:\", e, type(e))\n",
    "except ZeroDivisionError as e:\n",
    "   print(\"0️⃣ Error:\", e, type(e))\n",
    "print (\"Fin Ejemplo 2\")"
   ]
  },
  {
   "cell_type": "markdown",
   "id": "5638caa8",
   "metadata": {},
   "source": [
    "Ejemplo 3, De la lista de calificaciones obtener el promedio"
   ]
  },
  {
   "cell_type": "code",
   "execution_count": null,
   "id": "b01a09fb",
   "metadata": {
    "lines_to_next_cell": 2
   },
   "outputs": [],
   "source": [
    "calificaciones = [20,40,80,\"A\"]\n",
    "suma = 0\n",
    "try:\n",
    "    for i in range(len(calificaciones)+1):\n",
    "        suma += calificaciones[i] \n",
    "    promedio = suma / len(calificaciones)\n",
    "    print(\"Promedio:\", promedio)\n",
    "except ZeroDivisionError as e:\n",
    "    print(\"0️⃣ Error:\", e, type(e))\n",
    "except TypeError as e:\n",
    "    print(\"🎭 Error:\", e, type(e))\n",
    "except Exception as e:\n",
    "    print(\"💀 Error:\", e, type(e))"
   ]
  },
  {
   "cell_type": "markdown",
   "id": "fab212f7",
   "metadata": {},
   "source": [
    "Ejemplo 3, De la lista de calificaciones obtener el promedio"
   ]
  },
  {
   "cell_type": "code",
   "execution_count": null,
   "id": "dcd571de",
   "metadata": {},
   "outputs": [],
   "source": [
    "calificaciones = [20,40,80]\n",
    "suma = 0\n",
    "try:\n",
    "    for i in range(len(calificaciones)+1):\n",
    "        suma += calificaciones[i]\n",
    "    promedio = suma / len(calificaciones)\n",
    "    print(\"Promedio:\", promedio)\n",
    "except ZeroDivisionError as e:\n",
    "    print(\"0️⃣ Error:\", e, type(e))\n",
    "except TypeError as e:\n",
    "    print(\"🎭 Error:\", e, type(e))\n",
    "except Exception as e: # Captura cualquier excepción\n",
    "    print(\"💀 Error:\", e, type(e))"
   ]
  },
  {
   "cell_type": "markdown",
   "id": "209a90da",
   "metadata": {},
   "source": [
    "Ejemplo 3, De la lista de calificaciones obtener el promedio"
   ]
  },
  {
   "cell_type": "code",
   "execution_count": null,
   "id": "6bd45091",
   "metadata": {},
   "outputs": [],
   "source": [
    "calificaciones = [20,40,80]\n",
    "suma = 0\n",
    "try:\n",
    "    for i in range(len(calificaciones)):\n",
    "        suma += calificaciones[i] # suma = suma + calificaciones[i]\n",
    "    promedio = suma / len(calificaciones)\n",
    "    print(\"Promedio:\", promedio)\n",
    "except ZeroDivisionError as e:\n",
    "    print(\"0️⃣ Error:\", e, type(e))\n",
    "except TypeError as e:\n",
    "    print(\"🎭 Error:\", e, type(e))\n",
    "except Exception as e:\n",
    "    print(\"💀 Error:\", e, type(e))"
   ]
  },
  {
   "cell_type": "markdown",
   "id": "c38b4814",
   "metadata": {},
   "source": [
    "Bloque else"
   ]
  },
  {
   "cell_type": "markdown",
   "id": "5f0d667e",
   "metadata": {},
   "source": [
    "Ejemplo 4, De la lista de calificaciones obtener el promedio"
   ]
  },
  {
   "cell_type": "code",
   "execution_count": null,
   "id": "621a7e7f",
   "metadata": {},
   "outputs": [],
   "source": [
    "print (\"Inicio Ejemplo 4\")\n",
    "calificaciones = [20,40,80]\n",
    "suma = 0\n",
    "try:\n",
    "    for i in range(len(calificaciones)):\n",
    "        suma += calificaciones[i]\n",
    "    promedio = suma / len(calificaciones)\n",
    "    print(\"Promedio:\", promedio)\n",
    "except Exception as e:\n",
    "    print(\"💀 Error:\", e, type(e))\n",
    "else:\n",
    "    print (\"🎉 Sin errores\")\n",
    "print (\"Fin Ejemplo 4\")"
   ]
  },
  {
   "cell_type": "markdown",
   "id": "97eabc8a",
   "metadata": {},
   "source": [
    "Ejercicio 2, Crear un programa que solicite dos números y mediante una función devuelva la división de ambos\n",
    "Si hay un error mostrar un mensaje de error. El programa se detiene si se ingresa \"salir\"\n",
    "Añadir un bloque else que muestre el resultado de la función"
   ]
  },
  {
   "cell_type": "markdown",
   "id": "f7cc3eab",
   "metadata": {},
   "source": [
    "def division(num1, num2):\n",
    "   return num1 / num2"
   ]
  },
  {
   "cell_type": "markdown",
   "id": "6d740d94",
   "metadata": {},
   "source": [
    "while True:\n",
    "   try:\n",
    "       num1 = input(\"Ingrese el primer número: \")\n",
    "       if num1 == \"salir\":\n",
    "           break\n",
    "       num2 = input(\"Ingrese el segundo número: \")\n",
    "       if num2 == \"salir\":\n",
    "           break"
   ]
  },
  {
   "cell_type": "markdown",
   "id": "9af8994b",
   "metadata": {},
   "source": [
    "       num1 = float(num1)\n",
    "       num2 = float(num2)"
   ]
  },
  {
   "cell_type": "markdown",
   "id": "d55b46b1",
   "metadata": {
    "lines_to_next_cell": 2
   },
   "source": [
    "       resultado = division(num1, num2)\n",
    "   except Exception as e:\n",
    "       print(\"💀 Error:\", e)\n",
    "   else:\n",
    "       print(\"🎉 Resultado:\", resultado)"
   ]
  },
  {
   "cell_type": "code",
   "execution_count": null,
   "id": "30d9643e",
   "metadata": {},
   "outputs": [],
   "source": [
    "#Bloque finally\n",
    "print (\"Inicio Ejemplo 5\")\n",
    "try:\n",
    "    print(\"🔗 Ping...\")\n",
    "except Exception as e:\n",
    "    print(\"💀 Error:\", e)\n",
    "else:\n",
    "    print(\"🎉 Ping Exitoso\")\n",
    "finally:\n",
    "    print(\"🔌 Cerrando conexión\")"
   ]
  },
  {
   "cell_type": "markdown",
   "id": "4229db0b",
   "metadata": {
    "lines_to_next_cell": 2
   },
   "source": [
    "Raise\n",
    "Ejemplo 6, Simula una conexión a internet que haga ping y cerrar la conexión"
   ]
  },
  {
   "cell_type": "code",
   "execution_count": null,
   "id": "a8de815e",
   "metadata": {},
   "outputs": [],
   "source": [
    "print (\"Inicio Ejemplo 6\")\n",
    "try:\n",
    "    print(\"🔗 Ping...\")\n",
    "    raise Exception(\"Error de conexión\") #Excepción genérica\n",
    "except Exception as e: # Captura cualquier excepción\n",
    "    print(\"💀 Error:\", e)\n",
    "else:\n",
    "    print(\"🎉 Ping Exitoso\")\n",
    "finally:\n",
    "    print(\"🔌 Cerrando conexión\")"
   ]
  },
  {
   "cell_type": "markdown",
   "id": "1a0713e1",
   "metadata": {},
   "source": [
    "Ejercicio 3, Escriba un programa que solicite un número por teclado y se almacene en una lista\n",
    "Si es 0 se genera una excepción\n",
    "Si la ejecución es correcta muestra \"🎉Agregado\"\n",
    "Termina la ejecución sólo con la palabra \"salir\" utilizar la excepción KeyboardInterrupt\n",
    "Finalmente imprima siempre la suma de los números y la lista"
   ]
  },
  {
   "cell_type": "markdown",
   "id": "252f4d0c",
   "metadata": {},
   "source": [
    "numeros = []\n",
    "while True:\n",
    "   try:\n",
    "       num = input(\"Ingrese un número: \")\n",
    "       if num == \"salir\":\n",
    "           break\n",
    "       num = float(num)\n",
    "       if num == 0:\n",
    "           raise Exception(\"No se puede agregar el número 0\")\n",
    "       numeros.append(num)\n",
    "   except KeyboardInterrupt as e:\n",
    "       print('🚫 Para salir escriba \"salir\"')\n",
    "   except Exception as e:\n",
    "      print(\"💀 Error:\", e)\n",
    "   else:\n",
    "       print(\"🎉 Número agregado\")\n",
    "   finally:\n",
    "       print(\"Suma:\", sum(numeros))"
   ]
  },
  {
   "cell_type": "markdown",
   "id": "a467a0b0",
   "metadata": {},
   "source": [
    "Pass"
   ]
  },
  {
   "cell_type": "markdown",
   "id": "0d9b9edb",
   "metadata": {},
   "source": [
    "Ejemplo 7, Crea una función que no hace nada"
   ]
  },
  {
   "cell_type": "code",
   "execution_count": null,
   "id": "6d563b86",
   "metadata": {
    "lines_to_next_cell": 1
   },
   "outputs": [],
   "source": [
    "print(\"Inicio Ejemplo 7\")\n",
    "def funcion():\n",
    "    pass"
   ]
  },
  {
   "cell_type": "code",
   "execution_count": null,
   "id": "437f07db",
   "metadata": {},
   "outputs": [],
   "source": [
    "funcion()\n",
    "print(\"Fin Ejemplo 7\")"
   ]
  },
  {
   "cell_type": "markdown",
   "id": "46414fb4",
   "metadata": {},
   "source": [
    "Excepciones personalizadas"
   ]
  },
  {
   "cell_type": "markdown",
   "id": "0ba32892",
   "metadata": {},
   "source": [
    "Ejemplo 8, Tienes un frutero, saca las frutas mientras no sea un gusano y genera una excepción"
   ]
  },
  {
   "cell_type": "code",
   "execution_count": null,
   "id": "529cca4b",
   "metadata": {
    "lines_to_next_cell": 1
   },
   "outputs": [],
   "source": [
    "print(\"Inicio Ejemplo 8\")\n",
    "class GusanoError(Exception):\n",
    "    pass"
   ]
  },
  {
   "cell_type": "code",
   "execution_count": null,
   "id": "789dd8cc",
   "metadata": {
    "lines_to_next_cell": 1
   },
   "outputs": [],
   "source": [
    "frutero = ['🍎', '🍌', '🍐', '🐛', '🍇']\n",
    "for fruta in frutero:\n",
    "    try:\n",
    "        if fruta == '🐛':\n",
    "            raise GusanoError(\"😱 Ewww!\")\n",
    "        print(fruta)\n",
    "    except GusanoError as e:\n",
    "        print(\"🐛 Error:\", e)\n",
    "    except Exception as e:\n",
    "        print(\"💀 Error:\", e)\n",
    "print(\"Fin Ejemplo 8\")"
   ]
  },
  {
   "cell_type": "markdown",
   "id": "6f40a8b1",
   "metadata": {},
   "source": [
    "Ejercicio 4, Crear un programa que solicite palabras por teclado y almacene en una lista\n",
    "Si se inserta caracteres no alfabéticos se genera una excepción personalizada y no se almacena\n",
    "Si se ingresa \"salir\" se termina la ejecución\n",
    "Mostrar el mensaje \"🎉 Palabra agregada\" si no hay errores\n",
    "Finalmente imprimir la lista de palabras"
   ]
  },
  {
   "cell_type": "code",
   "execution_count": null,
   "id": "8708d391",
   "metadata": {
    "lines_to_next_cell": 1
   },
   "outputs": [],
   "source": [
    "class NoAlfabeticoError(Exception):\n",
    "    pass"
   ]
  },
  {
   "cell_type": "code",
   "execution_count": null,
   "id": "51c0588b",
   "metadata": {},
   "outputs": [],
   "source": [
    "palabras = []\n",
    "while True:\n",
    "    try:\n",
    "        palabra = input(\"Ingrese una palabra: \")\n",
    "        if palabra == \"salir\":\n",
    "            break\n",
    "        if not palabra.isalpha():\n",
    "            raise NoAlfabeticoError(\"Solo se permiten letras\")\n",
    "        palabras.append(palabra)\n",
    "    except NoAlfabeticoError as e:\n",
    "        print(\"🚫 Error:\", e)\n",
    "    except Exception as e:\n",
    "        print(\"💀 Error:\", e)\n",
    "    else:\n",
    "        print(\"🎉 Palabra agregada\")\n",
    "    finally:\n",
    "        print(\"Lista:\", palabras)"
   ]
  }
 ],
 "metadata": {
  "jupytext": {
   "cell_metadata_filter": "-all",
   "main_language": "python",
   "notebook_metadata_filter": "-all"
  }
 },
 "nbformat": 4,
 "nbformat_minor": 5
}
